{
  "nbformat": 4,
  "nbformat_minor": 0,
  "metadata": {
    "colab": {
      "provenance": []
    },
    "kernelspec": {
      "name": "python3",
      "display_name": "Python 3"
    },
    "language_info": {
      "name": "python"
    }
  },
  "cells": [
    {
      "cell_type": "markdown",
      "source": [
        "## Load data"
      ],
      "metadata": {
        "id": "QnJZ-J7Z4GBD"
      }
    },
    {
      "cell_type": "code",
      "execution_count": null,
      "metadata": {
        "id": "MP0-wcVMpuNG",
        "colab": {
          "base_uri": "https://localhost:8080/"
        },
        "outputId": "29c5da29-c47d-4841-e198-7d74e37aff9f"
      },
      "outputs": [
        {
          "output_type": "stream",
          "name": "stdout",
          "text": [
            "Mounted at /content/drive\n"
          ]
        }
      ],
      "source": [
        "from google.colab import drive\n",
        "drive.mount('/content/drive')"
      ]
    },
    {
      "cell_type": "code",
      "source": [
        "import pandas as pd\n",
        "import numpy as np"
      ],
      "metadata": {
        "id": "DKkmgTxgqMYJ"
      },
      "execution_count": null,
      "outputs": []
    },
    {
      "cell_type": "code",
      "source": [
        "df = pd.read_csv('/content/drive/MyDrive/phân cụm/daxuly_co _chuatotnghiep.csv')"
      ],
      "metadata": {
        "id": "N73TU1_GqNjp"
      },
      "execution_count": null,
      "outputs": []
    },
    {
      "cell_type": "code",
      "source": [
        "df_diem = df[['mssv', 'diemnamhoc1',\t'diemnamhoc2',\t'diemnamhoc3',\t'diemnamhoc4',\t'diemnamhoc5',\t'diemnamhoc6',\n",
        "              'drlnam1', 'drlnam2', 'drlnam3', 'drlnam4', 'drlnam5', 'drlnam6', 'label']]"
      ],
      "metadata": {
        "id": "zq2csCF9rV20"
      },
      "execution_count": null,
      "outputs": []
    },
    {
      "cell_type": "code",
      "source": [
        "df_diem.head(5)"
      ],
      "metadata": {
        "colab": {
          "base_uri": "https://localhost:8080/"
        },
        "id": "qeA2iWAGtG0s",
        "outputId": "714d021a-cab2-4641-fdf2-bec0593e54c6"
      },
      "execution_count": null,
      "outputs": [
        {
          "output_type": "execute_result",
          "data": {
            "text/plain": [
              "                                       mssv  diemnamhoc1  diemnamhoc2  \\\n",
              "0  BE375BAAXPvAibaEXe9JDlHA4z2GHJ3/PVStCxR2         6.47         6.66   \n",
              "1  2420ED57XPvAibaEXe/Lh6v1XxTKJa6JLFRUPkLM         7.72         8.17   \n",
              "2  83B76C01XPvAibaEXe/lOccskaOiO2K46r7t4qnt         5.03         4.53   \n",
              "3  91F785ABXPvAibaEXe/lOccskaOiO5y4GbVvuRQu         7.03         6.11   \n",
              "4  007C275DXPvAibaEXe+TFgEDwYNnveOOmOYeYzF6         6.63         7.06   \n",
              "\n",
              "   diemnamhoc3  diemnamhoc4  diemnamhoc5  diemnamhoc6  drlnam1  drlnam2  \\\n",
              "0         6.55         6.89         7.86          NaN     86.0     78.0   \n",
              "1         8.30         8.10         7.40          NaN     98.0     94.0   \n",
              "2         2.46          NaN          NaN          NaN     64.0     56.5   \n",
              "3         6.76         6.41         7.14          0.0     77.5     53.0   \n",
              "4         8.15         7.09         1.20          4.7     91.5     86.0   \n",
              "\n",
              "   drlnam3  drlnam4  drlnam5  drlnam6 label  \n",
              "0     85.0     64.5     75.0      NaN   Khá  \n",
              "1     82.0     71.0     65.5      NaN   Rớt  \n",
              "2    -14.0      NaN      NaN      NaN   Rớt  \n",
              "3     66.5     61.0     68.0     55.0   Rớt  \n",
              "4     78.5     70.5     60.5     77.4   Rớt  "
            ],
            "text/html": [
              "\n",
              "  <div id=\"df-39ea57dd-7ea0-49e2-b1f5-9fc6793620bc\" class=\"colab-df-container\">\n",
              "    <div>\n",
              "<style scoped>\n",
              "    .dataframe tbody tr th:only-of-type {\n",
              "        vertical-align: middle;\n",
              "    }\n",
              "\n",
              "    .dataframe tbody tr th {\n",
              "        vertical-align: top;\n",
              "    }\n",
              "\n",
              "    .dataframe thead th {\n",
              "        text-align: right;\n",
              "    }\n",
              "</style>\n",
              "<table border=\"1\" class=\"dataframe\">\n",
              "  <thead>\n",
              "    <tr style=\"text-align: right;\">\n",
              "      <th></th>\n",
              "      <th>mssv</th>\n",
              "      <th>diemnamhoc1</th>\n",
              "      <th>diemnamhoc2</th>\n",
              "      <th>diemnamhoc3</th>\n",
              "      <th>diemnamhoc4</th>\n",
              "      <th>diemnamhoc5</th>\n",
              "      <th>diemnamhoc6</th>\n",
              "      <th>drlnam1</th>\n",
              "      <th>drlnam2</th>\n",
              "      <th>drlnam3</th>\n",
              "      <th>drlnam4</th>\n",
              "      <th>drlnam5</th>\n",
              "      <th>drlnam6</th>\n",
              "      <th>label</th>\n",
              "    </tr>\n",
              "  </thead>\n",
              "  <tbody>\n",
              "    <tr>\n",
              "      <th>0</th>\n",
              "      <td>BE375BAAXPvAibaEXe9JDlHA4z2GHJ3/PVStCxR2</td>\n",
              "      <td>6.47</td>\n",
              "      <td>6.66</td>\n",
              "      <td>6.55</td>\n",
              "      <td>6.89</td>\n",
              "      <td>7.86</td>\n",
              "      <td>NaN</td>\n",
              "      <td>86.0</td>\n",
              "      <td>78.0</td>\n",
              "      <td>85.0</td>\n",
              "      <td>64.5</td>\n",
              "      <td>75.0</td>\n",
              "      <td>NaN</td>\n",
              "      <td>Khá</td>\n",
              "    </tr>\n",
              "    <tr>\n",
              "      <th>1</th>\n",
              "      <td>2420ED57XPvAibaEXe/Lh6v1XxTKJa6JLFRUPkLM</td>\n",
              "      <td>7.72</td>\n",
              "      <td>8.17</td>\n",
              "      <td>8.30</td>\n",
              "      <td>8.10</td>\n",
              "      <td>7.40</td>\n",
              "      <td>NaN</td>\n",
              "      <td>98.0</td>\n",
              "      <td>94.0</td>\n",
              "      <td>82.0</td>\n",
              "      <td>71.0</td>\n",
              "      <td>65.5</td>\n",
              "      <td>NaN</td>\n",
              "      <td>Rớt</td>\n",
              "    </tr>\n",
              "    <tr>\n",
              "      <th>2</th>\n",
              "      <td>83B76C01XPvAibaEXe/lOccskaOiO2K46r7t4qnt</td>\n",
              "      <td>5.03</td>\n",
              "      <td>4.53</td>\n",
              "      <td>2.46</td>\n",
              "      <td>NaN</td>\n",
              "      <td>NaN</td>\n",
              "      <td>NaN</td>\n",
              "      <td>64.0</td>\n",
              "      <td>56.5</td>\n",
              "      <td>-14.0</td>\n",
              "      <td>NaN</td>\n",
              "      <td>NaN</td>\n",
              "      <td>NaN</td>\n",
              "      <td>Rớt</td>\n",
              "    </tr>\n",
              "    <tr>\n",
              "      <th>3</th>\n",
              "      <td>91F785ABXPvAibaEXe/lOccskaOiO5y4GbVvuRQu</td>\n",
              "      <td>7.03</td>\n",
              "      <td>6.11</td>\n",
              "      <td>6.76</td>\n",
              "      <td>6.41</td>\n",
              "      <td>7.14</td>\n",
              "      <td>0.0</td>\n",
              "      <td>77.5</td>\n",
              "      <td>53.0</td>\n",
              "      <td>66.5</td>\n",
              "      <td>61.0</td>\n",
              "      <td>68.0</td>\n",
              "      <td>55.0</td>\n",
              "      <td>Rớt</td>\n",
              "    </tr>\n",
              "    <tr>\n",
              "      <th>4</th>\n",
              "      <td>007C275DXPvAibaEXe+TFgEDwYNnveOOmOYeYzF6</td>\n",
              "      <td>6.63</td>\n",
              "      <td>7.06</td>\n",
              "      <td>8.15</td>\n",
              "      <td>7.09</td>\n",
              "      <td>1.20</td>\n",
              "      <td>4.7</td>\n",
              "      <td>91.5</td>\n",
              "      <td>86.0</td>\n",
              "      <td>78.5</td>\n",
              "      <td>70.5</td>\n",
              "      <td>60.5</td>\n",
              "      <td>77.4</td>\n",
              "      <td>Rớt</td>\n",
              "    </tr>\n",
              "  </tbody>\n",
              "</table>\n",
              "</div>\n",
              "    <div class=\"colab-df-buttons\">\n",
              "\n",
              "  <div class=\"colab-df-container\">\n",
              "    <button class=\"colab-df-convert\" onclick=\"convertToInteractive('df-39ea57dd-7ea0-49e2-b1f5-9fc6793620bc')\"\n",
              "            title=\"Convert this dataframe to an interactive table.\"\n",
              "            style=\"display:none;\">\n",
              "\n",
              "  <svg xmlns=\"http://www.w3.org/2000/svg\" height=\"24px\" viewBox=\"0 -960 960 960\">\n",
              "    <path d=\"M120-120v-720h720v720H120Zm60-500h600v-160H180v160Zm220 220h160v-160H400v160Zm0 220h160v-160H400v160ZM180-400h160v-160H180v160Zm440 0h160v-160H620v160ZM180-180h160v-160H180v160Zm440 0h160v-160H620v160Z\"/>\n",
              "  </svg>\n",
              "    </button>\n",
              "\n",
              "  <style>\n",
              "    .colab-df-container {\n",
              "      display:flex;\n",
              "      gap: 12px;\n",
              "    }\n",
              "\n",
              "    .colab-df-convert {\n",
              "      background-color: #E8F0FE;\n",
              "      border: none;\n",
              "      border-radius: 50%;\n",
              "      cursor: pointer;\n",
              "      display: none;\n",
              "      fill: #1967D2;\n",
              "      height: 32px;\n",
              "      padding: 0 0 0 0;\n",
              "      width: 32px;\n",
              "    }\n",
              "\n",
              "    .colab-df-convert:hover {\n",
              "      background-color: #E2EBFA;\n",
              "      box-shadow: 0px 1px 2px rgba(60, 64, 67, 0.3), 0px 1px 3px 1px rgba(60, 64, 67, 0.15);\n",
              "      fill: #174EA6;\n",
              "    }\n",
              "\n",
              "    .colab-df-buttons div {\n",
              "      margin-bottom: 4px;\n",
              "    }\n",
              "\n",
              "    [theme=dark] .colab-df-convert {\n",
              "      background-color: #3B4455;\n",
              "      fill: #D2E3FC;\n",
              "    }\n",
              "\n",
              "    [theme=dark] .colab-df-convert:hover {\n",
              "      background-color: #434B5C;\n",
              "      box-shadow: 0px 1px 3px 1px rgba(0, 0, 0, 0.15);\n",
              "      filter: drop-shadow(0px 1px 2px rgba(0, 0, 0, 0.3));\n",
              "      fill: #FFFFFF;\n",
              "    }\n",
              "  </style>\n",
              "\n",
              "    <script>\n",
              "      const buttonEl =\n",
              "        document.querySelector('#df-39ea57dd-7ea0-49e2-b1f5-9fc6793620bc button.colab-df-convert');\n",
              "      buttonEl.style.display =\n",
              "        google.colab.kernel.accessAllowed ? 'block' : 'none';\n",
              "\n",
              "      async function convertToInteractive(key) {\n",
              "        const element = document.querySelector('#df-39ea57dd-7ea0-49e2-b1f5-9fc6793620bc');\n",
              "        const dataTable =\n",
              "          await google.colab.kernel.invokeFunction('convertToInteractive',\n",
              "                                                    [key], {});\n",
              "        if (!dataTable) return;\n",
              "\n",
              "        const docLinkHtml = 'Like what you see? Visit the ' +\n",
              "          '<a target=\"_blank\" href=https://colab.research.google.com/notebooks/data_table.ipynb>data table notebook</a>'\n",
              "          + ' to learn more about interactive tables.';\n",
              "        element.innerHTML = '';\n",
              "        dataTable['output_type'] = 'display_data';\n",
              "        await google.colab.output.renderOutput(dataTable, element);\n",
              "        const docLink = document.createElement('div');\n",
              "        docLink.innerHTML = docLinkHtml;\n",
              "        element.appendChild(docLink);\n",
              "      }\n",
              "    </script>\n",
              "  </div>\n",
              "\n",
              "\n",
              "<div id=\"df-aa65de25-1552-4aeb-ae50-66839c7ada4f\">\n",
              "  <button class=\"colab-df-quickchart\" onclick=\"quickchart('df-aa65de25-1552-4aeb-ae50-66839c7ada4f')\"\n",
              "            title=\"Suggest charts\"\n",
              "            style=\"display:none;\">\n",
              "\n",
              "<svg xmlns=\"http://www.w3.org/2000/svg\" height=\"24px\"viewBox=\"0 0 24 24\"\n",
              "     width=\"24px\">\n",
              "    <g>\n",
              "        <path d=\"M19 3H5c-1.1 0-2 .9-2 2v14c0 1.1.9 2 2 2h14c1.1 0 2-.9 2-2V5c0-1.1-.9-2-2-2zM9 17H7v-7h2v7zm4 0h-2V7h2v10zm4 0h-2v-4h2v4z\"/>\n",
              "    </g>\n",
              "</svg>\n",
              "  </button>\n",
              "\n",
              "<style>\n",
              "  .colab-df-quickchart {\n",
              "      --bg-color: #E8F0FE;\n",
              "      --fill-color: #1967D2;\n",
              "      --hover-bg-color: #E2EBFA;\n",
              "      --hover-fill-color: #174EA6;\n",
              "      --disabled-fill-color: #AAA;\n",
              "      --disabled-bg-color: #DDD;\n",
              "  }\n",
              "\n",
              "  [theme=dark] .colab-df-quickchart {\n",
              "      --bg-color: #3B4455;\n",
              "      --fill-color: #D2E3FC;\n",
              "      --hover-bg-color: #434B5C;\n",
              "      --hover-fill-color: #FFFFFF;\n",
              "      --disabled-bg-color: #3B4455;\n",
              "      --disabled-fill-color: #666;\n",
              "  }\n",
              "\n",
              "  .colab-df-quickchart {\n",
              "    background-color: var(--bg-color);\n",
              "    border: none;\n",
              "    border-radius: 50%;\n",
              "    cursor: pointer;\n",
              "    display: none;\n",
              "    fill: var(--fill-color);\n",
              "    height: 32px;\n",
              "    padding: 0;\n",
              "    width: 32px;\n",
              "  }\n",
              "\n",
              "  .colab-df-quickchart:hover {\n",
              "    background-color: var(--hover-bg-color);\n",
              "    box-shadow: 0 1px 2px rgba(60, 64, 67, 0.3), 0 1px 3px 1px rgba(60, 64, 67, 0.15);\n",
              "    fill: var(--button-hover-fill-color);\n",
              "  }\n",
              "\n",
              "  .colab-df-quickchart-complete:disabled,\n",
              "  .colab-df-quickchart-complete:disabled:hover {\n",
              "    background-color: var(--disabled-bg-color);\n",
              "    fill: var(--disabled-fill-color);\n",
              "    box-shadow: none;\n",
              "  }\n",
              "\n",
              "  .colab-df-spinner {\n",
              "    border: 2px solid var(--fill-color);\n",
              "    border-color: transparent;\n",
              "    border-bottom-color: var(--fill-color);\n",
              "    animation:\n",
              "      spin 1s steps(1) infinite;\n",
              "  }\n",
              "\n",
              "  @keyframes spin {\n",
              "    0% {\n",
              "      border-color: transparent;\n",
              "      border-bottom-color: var(--fill-color);\n",
              "      border-left-color: var(--fill-color);\n",
              "    }\n",
              "    20% {\n",
              "      border-color: transparent;\n",
              "      border-left-color: var(--fill-color);\n",
              "      border-top-color: var(--fill-color);\n",
              "    }\n",
              "    30% {\n",
              "      border-color: transparent;\n",
              "      border-left-color: var(--fill-color);\n",
              "      border-top-color: var(--fill-color);\n",
              "      border-right-color: var(--fill-color);\n",
              "    }\n",
              "    40% {\n",
              "      border-color: transparent;\n",
              "      border-right-color: var(--fill-color);\n",
              "      border-top-color: var(--fill-color);\n",
              "    }\n",
              "    60% {\n",
              "      border-color: transparent;\n",
              "      border-right-color: var(--fill-color);\n",
              "    }\n",
              "    80% {\n",
              "      border-color: transparent;\n",
              "      border-right-color: var(--fill-color);\n",
              "      border-bottom-color: var(--fill-color);\n",
              "    }\n",
              "    90% {\n",
              "      border-color: transparent;\n",
              "      border-bottom-color: var(--fill-color);\n",
              "    }\n",
              "  }\n",
              "</style>\n",
              "\n",
              "  <script>\n",
              "    async function quickchart(key) {\n",
              "      const quickchartButtonEl =\n",
              "        document.querySelector('#' + key + ' button');\n",
              "      quickchartButtonEl.disabled = true;  // To prevent multiple clicks.\n",
              "      quickchartButtonEl.classList.add('colab-df-spinner');\n",
              "      try {\n",
              "        const charts = await google.colab.kernel.invokeFunction(\n",
              "            'suggestCharts', [key], {});\n",
              "      } catch (error) {\n",
              "        console.error('Error during call to suggestCharts:', error);\n",
              "      }\n",
              "      quickchartButtonEl.classList.remove('colab-df-spinner');\n",
              "      quickchartButtonEl.classList.add('colab-df-quickchart-complete');\n",
              "    }\n",
              "    (() => {\n",
              "      let quickchartButtonEl =\n",
              "        document.querySelector('#df-aa65de25-1552-4aeb-ae50-66839c7ada4f button');\n",
              "      quickchartButtonEl.style.display =\n",
              "        google.colab.kernel.accessAllowed ? 'block' : 'none';\n",
              "    })();\n",
              "  </script>\n",
              "</div>\n",
              "\n",
              "    </div>\n",
              "  </div>\n"
            ],
            "application/vnd.google.colaboratory.intrinsic+json": {
              "type": "dataframe",
              "variable_name": "df_diem",
              "summary": "{\n  \"name\": \"df_diem\",\n  \"rows\": 7826,\n  \"fields\": [\n    {\n      \"column\": \"mssv\",\n      \"properties\": {\n        \"dtype\": \"string\",\n        \"num_unique_values\": 7826,\n        \"samples\": [\n          \"F2EAA359XPvAibaEXe9o/lUQXb5f/wV4mvQVjSu3\",\n          \"6423B8A9XPvAibaEXe/GVRoDkKDPXhJWdZfcImVT\",\n          \"CC66FB5EXPvAibaEXe/wvgrdNVCyf4qaNhqyOjdc\"\n        ],\n        \"semantic_type\": \"\",\n        \"description\": \"\"\n      }\n    },\n    {\n      \"column\": \"diemnamhoc1\",\n      \"properties\": {\n        \"dtype\": \"number\",\n        \"std\": 1.8179772281055593,\n        \"min\": 0.0,\n        \"max\": 9.7,\n        \"num_unique_values\": 838,\n        \"samples\": [\n          6.12,\n          1.53,\n          6.83\n        ],\n        \"semantic_type\": \"\",\n        \"description\": \"\"\n      }\n    },\n    {\n      \"column\": \"diemnamhoc2\",\n      \"properties\": {\n        \"dtype\": \"number\",\n        \"std\": 1.7021396273577876,\n        \"min\": 0.0,\n        \"max\": 9.56,\n        \"num_unique_values\": 794,\n        \"samples\": [\n          8.97,\n          9.29,\n          5.07\n        ],\n        \"semantic_type\": \"\",\n        \"description\": \"\"\n      }\n    },\n    {\n      \"column\": \"diemnamhoc3\",\n      \"properties\": {\n        \"dtype\": \"number\",\n        \"std\": 1.7273071986418325,\n        \"min\": 0.0,\n        \"max\": 9.67,\n        \"num_unique_values\": 789,\n        \"samples\": [\n          5.59,\n          1.92,\n          5.68\n        ],\n        \"semantic_type\": \"\",\n        \"description\": \"\"\n      }\n    },\n    {\n      \"column\": \"diemnamhoc4\",\n      \"properties\": {\n        \"dtype\": \"number\",\n        \"std\": 1.8161924900738167,\n        \"min\": 0.0,\n        \"max\": 10.0,\n        \"num_unique_values\": 826,\n        \"samples\": [\n          2.6,\n          8.02,\n          5.82\n        ],\n        \"semantic_type\": \"\",\n        \"description\": \"\"\n      }\n    },\n    {\n      \"column\": \"diemnamhoc5\",\n      \"properties\": {\n        \"dtype\": \"number\",\n        \"std\": 2.7561435103307623,\n        \"min\": 0.0,\n        \"max\": 10.0,\n        \"num_unique_values\": 745,\n        \"samples\": [\n          5.29,\n          5.94,\n          3.06\n        ],\n        \"semantic_type\": \"\",\n        \"description\": \"\"\n      }\n    },\n    {\n      \"column\": \"diemnamhoc6\",\n      \"properties\": {\n        \"dtype\": \"number\",\n        \"std\": 2.9209246618837486,\n        \"min\": 0.0,\n        \"max\": 10.0,\n        \"num_unique_values\": 376,\n        \"samples\": [\n          5.83,\n          1.99,\n          6.7\n        ],\n        \"semantic_type\": \"\",\n        \"description\": \"\"\n      }\n    },\n    {\n      \"column\": \"drlnam1\",\n      \"properties\": {\n        \"dtype\": \"number\",\n        \"std\": 13.14604290147512,\n        \"min\": -2.0,\n        \"max\": 100.0,\n        \"num_unique_values\": 158,\n        \"samples\": [\n          25.5,\n          87.5,\n          35.5\n        ],\n        \"semantic_type\": \"\",\n        \"description\": \"\"\n      }\n    },\n    {\n      \"column\": \"drlnam2\",\n      \"properties\": {\n        \"dtype\": \"number\",\n        \"std\": 16.08795623346626,\n        \"min\": -45.0,\n        \"max\": 100.0,\n        \"num_unique_values\": 199,\n        \"samples\": [\n          92.5,\n          77.5,\n          -23.0\n        ],\n        \"semantic_type\": \"\",\n        \"description\": \"\"\n      }\n    },\n    {\n      \"column\": \"drlnam3\",\n      \"properties\": {\n        \"dtype\": \"number\",\n        \"std\": 16.23787393403567,\n        \"min\": -42.0,\n        \"max\": 100.0,\n        \"num_unique_values\": 202,\n        \"samples\": [\n          64.5,\n          74.5,\n          -42.0\n        ],\n        \"semantic_type\": \"\",\n        \"description\": \"\"\n      }\n    },\n    {\n      \"column\": \"drlnam4\",\n      \"properties\": {\n        \"dtype\": \"number\",\n        \"std\": 14.148398384814376,\n        \"min\": 0.0,\n        \"max\": 100.0,\n        \"num_unique_values\": 187,\n        \"samples\": [\n          94.67,\n          76.5,\n          74.0\n        ],\n        \"semantic_type\": \"\",\n        \"description\": \"\"\n      }\n    },\n    {\n      \"column\": \"drlnam5\",\n      \"properties\": {\n        \"dtype\": \"number\",\n        \"std\": 10.665632807881513,\n        \"min\": 15.0,\n        \"max\": 100.0,\n        \"num_unique_values\": 201,\n        \"samples\": [\n          85.5,\n          85.0,\n          83.0\n        ],\n        \"semantic_type\": \"\",\n        \"description\": \"\"\n      }\n    },\n    {\n      \"column\": \"drlnam6\",\n      \"properties\": {\n        \"dtype\": \"number\",\n        \"std\": 8.546353649484503,\n        \"min\": 32.0,\n        \"max\": 100.0,\n        \"num_unique_values\": 134,\n        \"samples\": [\n          75.25,\n          64.2,\n          66.0\n        ],\n        \"semantic_type\": \"\",\n        \"description\": \"\"\n      }\n    },\n    {\n      \"column\": \"label\",\n      \"properties\": {\n        \"dtype\": \"category\",\n        \"num_unique_values\": 7,\n        \"samples\": [\n          \"Kh\\u00e1\",\n          \"R\\u1edbt\",\n          \"Xu\\u1ea5t s\\u1eafc\"\n        ],\n        \"semantic_type\": \"\",\n        \"description\": \"\"\n      }\n    }\n  ]\n}"
            }
          },
          "metadata": {},
          "execution_count": 19
        }
      ]
    },
    {
      "cell_type": "code",
      "source": [
        "df_diem = df_diem[df_diem['label'] != 'Chưa tốt nghiệp']"
      ],
      "metadata": {
        "id": "dQLpem-w-M6T"
      },
      "execution_count": null,
      "outputs": []
    },
    {
      "cell_type": "code",
      "source": [
        "print(df_diem['label'].unique())"
      ],
      "metadata": {
        "colab": {
          "base_uri": "https://localhost:8080/"
        },
        "id": "YAIlmFzZnLQq",
        "outputId": "75a511d8-92ab-4034-b4ac-4acb4a32d6cf"
      },
      "execution_count": null,
      "outputs": [
        {
          "output_type": "stream",
          "name": "stdout",
          "text": [
            "['Khá' 'Rớt' 'Trung bình khá' 'Trung bình' 'Giỏi' 'Xuất sắc']\n"
          ]
        }
      ]
    },
    {
      "cell_type": "markdown",
      "source": [
        "Cột diemnamhoc5 và diemnamhoc6 chứa điểm trung bình năm học của sinh viên.\n",
        "Quan sát thấy:\n",
        "\n",
        "Nếu giá trị trong diemnamhoc5 hoặc diemnamhoc6 là 0, các giá trị ở những năm học sau đó đều là null. Điều này có thể do:\n",
        "\n",
        "\n",
        "*   Sinh viên đã tốt nghiệp\n",
        "*   Sinh viên đã bỏ học (không có dữ liệu tiếp theo)\n",
        "\n"
      ],
      "metadata": {
        "id": "HoE7JYMPSum-"
      }
    },
    {
      "cell_type": "code",
      "source": [
        "#Kiểm tra thấy các sinh viên có diemnamhoc5 và diemnamhoc6 nếu = 0 thì các điểm năm học sau đó đều là null (có thể do sinh viên đã tốt nghiệp hoặc do bỏ học)\n",
        "df_diem.loc[df_diem['diemnamhoc5'] == 0, 'diemnamhoc5'] = np.nan\n",
        "df_diem.loc[df_diem['diemnamhoc6'] == 0, 'diemnamhoc6'] = np.nan\n",
        "df_diem.loc[df_diem['diemnamhoc4'] == 0, 'diemnamhoc4'] = np.nan\n",
        "df_diem.loc[df_diem['diemnamhoc3'] == 0, 'diemnamhoc3'] = np.nan\n",
        "df_diem.loc[df_diem['diemnamhoc2'] == 0, 'diemnamhoc2'] = np.nan\n",
        "df_diem.loc[df_diem['diemnamhoc1'] == 0, 'diemnamhoc1'] = np.nan\n",
        "\n",
        "df_diem.loc[df_diem['drlnam1'] == 0, 'drlnam1'] = np.nan\n",
        "df_diem.loc[df_diem['drlnam2'] == 0, 'drlnam2'] = np.nan\n",
        "df_diem.loc[df_diem['drlnam3'] == 0, 'drlnam3'] = np.nan\n",
        "df_diem.loc[df_diem['drlnam4'] == 0, 'drlnam4'] = np.nan\n",
        "df_diem.loc[df_diem['drlnam5'] == 0, 'drlnam5'] = np.nan\n",
        "df_diem.loc[df_diem['drlnam6'] == 0, 'drlnam6'] = np.nan"
      ],
      "metadata": {
        "id": "wXm5iU4aRj6B"
      },
      "execution_count": null,
      "outputs": []
    },
    {
      "cell_type": "markdown",
      "source": [
        "## Phân cụm theo từng năm (tất cả các nhãn)"
      ],
      "metadata": {
        "id": "ksyc_zyXcLuf"
      }
    },
    {
      "cell_type": "code",
      "source": [
        "from sklearn.cluster import KMeans, DBSCAN, MeanShift, AgglomerativeClustering"
      ],
      "metadata": {
        "id": "n-xFM60Kb-Fr"
      },
      "execution_count": null,
      "outputs": []
    },
    {
      "cell_type": "code",
      "source": [
        "hierarchical = AgglomerativeClustering(n_clusters=3)"
      ],
      "metadata": {
        "id": "-pmKoCtSb-EQ"
      },
      "execution_count": null,
      "outputs": []
    },
    {
      "cell_type": "code",
      "source": [
        "def plot_clusters(X, labels, title):\n",
        "    # Check if X has more than one column\n",
        "    if X.shape[1] > 1:\n",
        "        plt.scatter(X.iloc[:, 0], X.iloc[:, 1], c=labels, s=30, cmap='viridis')\n",
        "    else:\n",
        "        # If only one column, plot against index\n",
        "        plt.scatter(X.index, X.iloc[:, 0], c=labels, s=30, cmap='viridis')\n",
        "    plt.title(title)\n",
        "    plt.show()"
      ],
      "metadata": {
        "id": "eNd1tXK5b-Bf"
      },
      "execution_count": null,
      "outputs": []
    },
    {
      "cell_type": "code",
      "source": [
        "def plot_clusters_1D(X, labels, title):\n",
        "    plt.scatter(X, np.zeros_like(X), c=labels, s=30, cmap='viridis')\n",
        "    plt.title(title)\n",
        "    plt.yticks([])  # Ẩn trục y vì không cần thiết\n",
        "    plt.xlabel('Feature')  # Nhãn cho trục x\n",
        "    plt.show()"
      ],
      "metadata": {
        "id": "dKGz8fPob99O"
      },
      "execution_count": null,
      "outputs": []
    },
    {
      "cell_type": "code",
      "source": [
        "from sklearn.mixture import GaussianMixture"
      ],
      "metadata": {
        "id": "OzFr9U8DcTKe"
      },
      "execution_count": null,
      "outputs": []
    },
    {
      "cell_type": "code",
      "source": [
        "#Phân cụm điểm cho từng năm học\n",
        "from sklearn.cluster import KMeans\n",
        "#Điểm\n",
        "def cluster_namhoc(df):\n",
        "  for i in range(1,7):\n",
        "    X  = df_diem[[f'diemnamhoc{i}']].dropna()\n",
        "    print('----------------------------------------------')\n",
        "    print(f'Phân cụm cho điểm năm {i}')\n",
        "    print(len(X))\n",
        "    kmeans = KMeans(n_clusters=3, random_state=0).fit(X)\n",
        "    print(f'Centers found for {i} years:')\n",
        "    print(kmeans.cluster_centers_)\n",
        "    globals()[f'centers{i}'] = kmeans.cluster_centers_\n",
        "    globals()[f'pred_label{i}'] = kmeans.predict(X)\n",
        "    print(pd.Series(kmeans.predict(X)).value_counts())\n",
        "\n",
        "#Điểm rèn luyện\n",
        "def cluster_drl(df):\n",
        "  for i in range(1,7):\n",
        "    X  = df_diem[[f'drlnam{i}']].dropna()\n",
        "    print('----------------------------------------------')\n",
        "    print(f'Phân cụm cho điểm rèn luyện năm {i}')\n",
        "    print(len(X))\n",
        "    kmeans = KMeans(n_clusters=3, random_state=0).fit(X)\n",
        "    print(f'Centers found for {i} years:')\n",
        "    print(kmeans.cluster_centers_)\n",
        "    globals()[f'centers_drl{i}'] = kmeans.cluster_centers_\n",
        "    globals()[f'pred_label_drl{i}'] = kmeans.predict(X)\n",
        "    print(pd.Series(kmeans.predict(X)).value_counts())"
      ],
      "metadata": {
        "id": "FN5PeXQY34pT"
      },
      "execution_count": null,
      "outputs": []
    },
    {
      "cell_type": "code",
      "source": [
        "cluster_drl(df_diem)"
      ],
      "metadata": {
        "colab": {
          "base_uri": "https://localhost:8080/"
        },
        "outputId": "4a1c4c52-7283-47b4-bf6c-8ff952518947",
        "id": "ia1oJ0YXhVWx"
      },
      "execution_count": null,
      "outputs": [
        {
          "output_type": "stream",
          "name": "stdout",
          "text": [
            "----------------------------------------------\n",
            "Phân cụm cho điểm rèn luyện năm 1\n",
            "4899\n",
            "Centers found for 1 years:\n",
            "[[51.95558959]\n",
            " [87.52326151]\n",
            " [72.46710526]]\n",
            "2    2204\n",
            "1    2042\n",
            "0     653\n",
            "Name: count, dtype: int64\n",
            "----------------------------------------------\n",
            "Phân cụm cho điểm rèn luyện năm 2\n",
            "4673\n",
            "Centers found for 2 years:\n",
            "[[35.07816377]\n",
            " [89.13623674]\n",
            " [72.18091973]]\n",
            "2    2479\n",
            "1    1791\n",
            "0     403\n",
            "Name: count, dtype: int64\n",
            "----------------------------------------------\n",
            "Phân cụm cho điểm rèn luyện năm 3\n",
            "4464\n",
            "Centers found for 3 years:\n",
            "[[72.36205859]\n",
            " [31.94590164]\n",
            " [89.95905819]]\n",
            "0    2492\n",
            "2    1667\n",
            "1     305\n",
            "Name: count, dtype: int64\n",
            "----------------------------------------------\n",
            "Phân cụm cho điểm rèn luyện năm 4\n",
            "4266\n",
            "Centers found for 4 years:\n",
            "[[92.52298101]\n",
            " [53.5670826 ]\n",
            " [75.01984714]]\n",
            "2    2486\n",
            "0    1211\n",
            "1     569\n",
            "Name: count, dtype: int64\n",
            "----------------------------------------------\n",
            "Phân cụm cho điểm rèn luyện năm 5\n",
            "2817\n",
            "Centers found for 5 years:\n",
            "[[57.68303571]\n",
            " [70.09668923]\n",
            " [84.82980603]]\n",
            "1    1625\n",
            "0     728\n",
            "2     464\n",
            "Name: count, dtype: int64\n",
            "----------------------------------------------\n",
            "Phân cụm cho điểm rèn luyện năm 6\n",
            "787\n",
            "Centers found for 6 years:\n",
            "[[75.07401639]\n",
            " [54.08802083]\n",
            " [64.6544484 ]]\n",
            "1    384\n",
            "2    281\n",
            "0    122\n",
            "Name: count, dtype: int64\n"
          ]
        }
      ]
    },
    {
      "cell_type": "code",
      "source": [
        "cluster_namhoc(df_diem)"
      ],
      "metadata": {
        "colab": {
          "base_uri": "https://localhost:8080/"
        },
        "id": "Z5X5bxz3cxc7",
        "outputId": "146bad84-5291-4d9c-89df-09e5a1f3d852"
      },
      "execution_count": null,
      "outputs": [
        {
          "output_type": "stream",
          "name": "stdout",
          "text": [
            "----------------------------------------------\n",
            "Phân cụm cho điểm năm 1\n",
            "4858\n",
            "Centers found for 1 years:\n",
            "[[3.20633136]\n",
            " [5.84955817]\n",
            " [7.54057343]]\n",
            "2    2145\n",
            "1    2037\n",
            "0     676\n",
            "Name: count, dtype: int64\n",
            "----------------------------------------------\n",
            "Phân cụm cho điểm năm 2\n",
            "4628\n",
            "Centers found for 2 years:\n",
            "[[5.997534  ]\n",
            " [2.75962704]\n",
            " [7.64360048]]\n",
            "2    2508\n",
            "0    1694\n",
            "1     426\n",
            "Name: count, dtype: int64\n",
            "----------------------------------------------\n",
            "Phân cụm cho điểm năm 3\n",
            "4438\n",
            "Centers found for 3 years:\n",
            "[[6.03577778]\n",
            " [7.71212243]\n",
            " [2.62023529]]\n",
            "1    2470\n",
            "0    1541\n",
            "2     427\n",
            "Name: count, dtype: int64\n",
            "----------------------------------------------\n",
            "Phân cụm cho điểm năm 4\n",
            "4239\n",
            "Centers found for 4 years:\n",
            "[[2.72464368]\n",
            " [7.99218508]\n",
            " [6.17835677]]\n",
            "1    2453\n",
            "2    1351\n",
            "0     435\n",
            "Name: count, dtype: int64\n",
            "----------------------------------------------\n",
            "Phân cụm cho điểm năm 5\n",
            "2691\n",
            "Centers found for 5 years:\n",
            "[[8.21960133]\n",
            " [2.64241096]\n",
            " [6.03697929]]\n",
            "0    1510\n",
            "2     817\n",
            "1     364\n",
            "Name: count, dtype: int64\n",
            "----------------------------------------------\n",
            "Phân cụm cho điểm năm 6\n",
            "640\n",
            "Centers found for 6 years:\n",
            "[[2.05123377]\n",
            " [7.48315589]\n",
            " [5.05336323]]\n",
            "1    261\n",
            "2    225\n",
            "0    154\n",
            "Name: count, dtype: int64\n"
          ]
        }
      ]
    }
  ]
}