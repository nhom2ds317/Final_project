{
  "nbformat": 4,
  "nbformat_minor": 0,
  "metadata": {
    "colab": {
      "provenance": [],
      "toc_visible": true
    },
    "kernelspec": {
      "name": "python3",
      "display_name": "Python 3"
    },
    "language_info": {
      "name": "python"
    }
  },
  "cells": [
    {
      "cell_type": "code",
      "execution_count": null,
      "metadata": {
        "id": "zpigFhsxIXO7"
      },
      "outputs": [],
      "source": [
        "import pandas as pd\n",
        "import pandas as pd"
      ]
    },
    {
      "cell_type": "code",
      "source": [
        "daxuly = pd.read_csv('/content/daxuly (2).csv')\n",
        "chuaxuly = pd.read_csv('/content/chuaxuly (1).csv')"
      ],
      "metadata": {
        "id": "YWEoXFuXIn7A"
      },
      "execution_count": null,
      "outputs": []
    },
    {
      "cell_type": "code",
      "source": [
        "daxuly.columns"
      ],
      "metadata": {
        "colab": {
          "base_uri": "https://localhost:8080/"
        },
        "id": "IMQ575EyQ3HR",
        "outputId": "23b47664-d250-4543-e973-08b4611e5596"
      },
      "execution_count": null,
      "outputs": [
        {
          "output_type": "execute_result",
          "data": {
            "text/plain": [
              "Index(['Unnamed: 0', 'mssv', 'soquyetdinh', 'ngaycapvb', 'namsinh', 'gioitinh',\n",
              "       'noisinh', 'lopsh', 'khoa', 'hedt', 'khoahoc', 'chuyennganh2',\n",
              "       'tinhtrang', 'diachi_tinhtp', 'diemnamhoc1', 'diemnamhoc2',\n",
              "       'diemnamhoc3', 'diemnamhoc4', 'diemnamhoc5', 'diemnamhoc6', 'diem_3_5',\n",
              "       'dtb_toankhoa', 'dtb_tichluy', 'sotc_tichluy', 'ghichu', 'drlnam1',\n",
              "       'drlnam2', 'drlnam3', 'drlnam4', 'drlnam5', 'drlnam6', 'drl_3_5',\n",
              "       'dien_tt', 'diem_tt', 'lop12_matinh', 'lop12_matruong', 'sotc_rot1',\n",
              "       'sotc_rot2', 'sotc_rot3', 'sotc_rot4', 'sotc_rot5', 'sotc_rot6',\n",
              "       'sotc_rot7', 'sotc_rot8', 'tc_rot_tong', 'rotmon_3_5', 'tctichluy1',\n",
              "       'tctichluy2', 'tctichluy3', 'tctichluy4', 'tctichluy5', 'tctichluy6',\n",
              "       'tc_tichluy_3_5', 'socc_tienganh', 'tienganh', 'canhcao', 'tc_yeucau',\n",
              "       'tb_drl', 'label'],\n",
              "      dtype='object')"
            ]
          },
          "metadata": {},
          "execution_count": 139
        }
      ]
    },
    {
      "cell_type": "code",
      "source": [
        "sinhvien_cols = ['namsinh', 'gioitinh','noisinh', 'lopsh', 'khoa', 'hedt', 'khoahoc', 'chuyennganh2','tinhtrang', 'diachi_tinhtp']\n",
        "diem_cols = ['sotc_rot1','sotc_rot2', 'sotc_rot3', 'sotc_rot4', 'sotc_rot5', 'sotc_rot6','sotc_rot7', 'sotc_rot8', 'tc_rot_tong', 'rotmon_3_5', 'tctichluy1','tctichluy2', 'tctichluy3', 'tctichluy4', 'tctichluy5', 'tctichluy6','tc_tichluy_3_5']\n",
        "chungchi_cols = ['socc_tienganh', 'tienganh']\n",
        "thisinh_cols = ['dien_tt', 'diem_tt', 'lop12_matinh', 'lop12_matruong']\n",
        "xlhv_cols = ['canhcao']\n",
        "drl_cols = [ 'drlnam2', 'drlnam3', 'drlnam4', 'drlnam5', 'drlnam6', 'drl_3_5','tb_drl']\n",
        "tn_cols = ['soquyetdinh', 'ngaycapvb']\n",
        "dtb_hocky_cols = ['diemnamhoc1', 'diemnamhoc2', 'diemnamhoc3', 'diemnamhoc4', 'diemnamhoc5', 'diemnamhoc6', 'diem_3_5']\n",
        "dtb_toankhoa_cols = ['dtb_toankhoa','dtb_tichluy']"
      ],
      "metadata": {
        "id": "3YJ1LRqUQ8Nl"
      },
      "execution_count": null,
      "outputs": []
    },
    {
      "cell_type": "markdown",
      "source": [
        "#Accuracy"
      ],
      "metadata": {
        "id": "9LKn45ugJene"
      }
    },
    {
      "cell_type": "markdown",
      "source": [
        "##Sinhvien"
      ],
      "metadata": {
        "id": "GdfpnQm1T5Bz"
      }
    },
    {
      "cell_type": "code",
      "source": [
        "invalid_daxuly = 0\n",
        "invalid_chuaxuly = 0"
      ],
      "metadata": {
        "id": "um_qp-HQZ7zA"
      },
      "execution_count": null,
      "outputs": []
    },
    {
      "cell_type": "code",
      "source": [
        "sinhvien_cols"
      ],
      "metadata": {
        "colab": {
          "base_uri": "https://localhost:8080/"
        },
        "id": "KBbggT_sT8s3",
        "outputId": "c34c6a9e-4ebe-473e-a5b7-985ba7e1a6e6"
      },
      "execution_count": null,
      "outputs": [
        {
          "output_type": "execute_result",
          "data": {
            "text/plain": [
              "['namsinh',\n",
              " 'gioitinh',\n",
              " 'noisinh',\n",
              " 'lopsh',\n",
              " 'khoa',\n",
              " 'hedt',\n",
              " 'khoahoc',\n",
              " 'chuyennganh2',\n",
              " 'tinhtrang',\n",
              " 'diachi_tinhtp']"
            ]
          },
          "metadata": {},
          "execution_count": 142
        }
      ]
    },
    {
      "cell_type": "markdown",
      "source": [
        "Nhóm cho rằng năm sinh từ 1980 đến 2003 là hợp lý cho giá trị năm sinh"
      ],
      "metadata": {
        "id": "H7NZUdNQUBqI"
      }
    },
    {
      "cell_type": "code",
      "source": [
        "def check_namsinh(series):\n",
        "    valid_count = series.apply(lambda x: x is not None and 1980 <= x <= 2003).sum()\n",
        "    invalid_count = len(series) - valid_count\n",
        "    return valid_count, invalid_count\n",
        "print('Số giá trị không hợp lệ của đã xử lý : ',check_namsinh(daxuly['namsinh'])[1])\n",
        "print('Số giá trị không hợp lệ của chưa xử lý: ',check_namsinh(chuaxuly['namsinh'])[1])"
      ],
      "metadata": {
        "colab": {
          "base_uri": "https://localhost:8080/"
        },
        "id": "hUhi3IJkUAUs",
        "outputId": "c3cbb853-b60f-41fb-c2b0-9e160634e8fb"
      },
      "execution_count": null,
      "outputs": [
        {
          "output_type": "stream",
          "name": "stdout",
          "text": [
            "Số giá trị không hợp lệ của đã xử lý :  0\n",
            "Số giá trị không hợp lệ của chưa xử lý:  0\n"
          ]
        }
      ]
    },
    {
      "cell_type": "code",
      "source": [
        "def check_gioitinh(series):\n",
        "    valid_count = series.apply(lambda x: x in [0.0, 1.0]).sum()\n",
        "    invalid_count = len(series) - valid_count\n",
        "    return valid_count, invalid_count\n",
        "print('Số giá trị không hợp lệ của đã xử lý : ',check_gioitinh(daxuly['gioitinh'])[1])\n",
        "print('Số giá trị không hợp lệ của chưa xử lý: ',check_gioitinh(chuaxuly['gioitinh'])[1])"
      ],
      "metadata": {
        "colab": {
          "base_uri": "https://localhost:8080/"
        },
        "id": "kMFPUIoKU7rJ",
        "outputId": "24019a76-e51f-444b-90b9-8e3afa00742a"
      },
      "execution_count": null,
      "outputs": [
        {
          "output_type": "stream",
          "name": "stdout",
          "text": [
            "Số giá trị không hợp lệ của đã xử lý :  0\n",
            "Số giá trị không hợp lệ của chưa xử lý:  0\n"
          ]
        }
      ]
    },
    {
      "cell_type": "code",
      "source": [
        "def check_khoahoc(series):\n",
        "    valid_count = series.apply(lambda x: x is not None and 1 <= x <= 18).sum()\n",
        "    invalid_count = len(series) - valid_count\n",
        "    return valid_count, invalid_count\n",
        "print('Số giá trị không hợp lệ của đã xử lý : ',check_khoahoc(daxuly['khoahoc'])[1])\n",
        "print('Số giá trị không hợp lệ của chưa xử lý: ',check_khoahoc(chuaxuly['khoahoc'])[1])"
      ],
      "metadata": {
        "colab": {
          "base_uri": "https://localhost:8080/"
        },
        "id": "_mUMPES_XVUL",
        "outputId": "4237ede5-e643-438f-a1d4-e31dd6466492"
      },
      "execution_count": null,
      "outputs": [
        {
          "output_type": "stream",
          "name": "stdout",
          "text": [
            "Số giá trị không hợp lệ của đã xử lý :  0\n",
            "Số giá trị không hợp lệ của chưa xử lý:  0\n"
          ]
        }
      ]
    },
    {
      "cell_type": "code",
      "source": [
        "def check_tinhtrang(series):\n",
        "    valid_count = series.apply(lambda x: x is not None and 0 <= x <= 10).sum()\n",
        "    invalid_count = len(series) - valid_count\n",
        "    return valid_count, invalid_count\n",
        "print('Số giá trị không hợp lệ của đã xử lý : ',check_tinhtrang(daxuly['tinhtrang'])[1])\n",
        "print('Số giá trị không hợp lệ của chưa xử lý: ',check_tinhtrang(chuaxuly['tinhtrang'])[1])"
      ],
      "metadata": {
        "colab": {
          "base_uri": "https://localhost:8080/"
        },
        "id": "WI3zSKLmXefk",
        "outputId": "ebb65e3e-0c38-4080-d0b6-b7bc89cc65bb"
      },
      "execution_count": null,
      "outputs": [
        {
          "output_type": "stream",
          "name": "stdout",
          "text": [
            "Số giá trị không hợp lệ của đã xử lý :  0\n",
            "Số giá trị không hợp lệ của chưa xử lý:  0\n"
          ]
        }
      ]
    },
    {
      "cell_type": "code",
      "source": [
        "#Đã được chuẩn hóa, không chứa các giá trị sai\n",
        "print(daxuly['noisinh'].unique())\n",
        "print(daxuly['lopsh'].unique())\n",
        "print(daxuly['khoa'].unique())\n",
        "print(daxuly['hedt'].unique())\n",
        "print(daxuly['noisinh'].unique())\n",
        "print(daxuly['lopsh'].unique())\n",
        "print(daxuly['khoa'].unique())\n",
        "print(daxuly['chuyennganh2'].unique())\n",
        "print(daxuly['diachi_tinhtp'].unique())"
      ],
      "metadata": {
        "colab": {
          "base_uri": "https://localhost:8080/"
        },
        "id": "Moh6CGJ6WzoB",
        "outputId": "23090fef-563a-43b8-b27a-9fef958db6a6"
      },
      "execution_count": null,
      "outputs": [
        {
          "output_type": "stream",
          "name": "stdout",
          "text": [
            "['Vùng Đông Nam Bộ' 'Vùng Đồng bằng sông Cửu Long'\n",
            " 'Vùng Đồng bằng sông Hồng' 'Vùng Bắc Trung Bộ và Duyên hải miền Trung'\n",
            " 'Vùng Tây Nguyên' 'Vùng Trung du và Miền núi phía Bắc' 'Nước ngoài']\n",
            "['KTPM0001' 'HTTT0001' 'KHMT2013' 'MMTT0001' 'KHMT0001' 'CNTT2013'\n",
            " 'KTPM2013' 'ANTT2013' 'KTMT2013' 'MMTT2013' 'KTMT0001' 'CNTT0001'\n",
            " 'CTTT2013' 'HTTT2013' 'TMĐT2013' 'CNTT2014' 'HTTT2014' 'ANTT2014'\n",
            " 'KTPM2014' 'KTMT2014' 'KHMT2014' 'MMTT2014' 'CTTT2014' 'KHMT2016'\n",
            " 'TMĐT2014' 'HTTT2015' 'CTTT2015' 'KHMT2015' 'KTPM2015' 'TMĐT2015'\n",
            " 'ATTT2015' 'CNTT2015' 'MMTT2015' 'KTMT2015' 'HTTT2016' 'CNTT2016'\n",
            " 'TMĐT2016' 'KTMT2016' 'ATTT2016' 'MMTT2016' 'CTTT2016' 'KTPM2016'\n",
            " 'KTPM2017' 'ATTN2017' 'ATTT2017' 'KHMT2017' 'PMCL2017' 'HTTT2017'\n",
            " 'KTMT2017' 'MMTT2017' 'CNTT2017' 'TMĐT2017' 'HTCL2017' 'KHCL2017'\n",
            " 'ATCL2017' 'MTCL2017' 'MMCL2017' 'CTTT2017' 'PMCL2018' 'TMĐT2018'\n",
            " 'KTPM2018' 'KHMT2018' 'CNTT2018' 'HTTT2018' 'ATTN2018' 'ATTT2018'\n",
            " 'MMTT2018' 'ATCL2018' 'KHTN2018' 'HTCL2018' 'MTCL2018' 'KTMT2018'\n",
            " 'KHDL2018' 'CNCL2018' 'KHCL2018' 'CTTT2018' 'MMCL2018' 'KHCL2019'\n",
            " 'CTTT2019' 'ATCL2019' 'TMĐT2019' 'CNTT2019' 'ATTT2019' 'CNCL2019'\n",
            " 'PMCL2019' 'KTMT2019' 'KHMT2019' 'KTPM2019' 'KHDL2019' 'HTTT2019'\n",
            " 'KHTN2019' 'HTCL2019' 'ATTN2019' 'MMTT2019' 'MMCL2019' 'MTCL2019'\n",
            " 'TMCL2019']\n",
            "[' CNPM' ' HTTT' ' KHMT' ' MMT&TT' ' KTTT' ' KTMT']\n",
            "['CQUI' 'CTTT' 'CLC' 'KSTN' 'CNTN']\n",
            "['Vùng Đông Nam Bộ' 'Vùng Đồng bằng sông Cửu Long'\n",
            " 'Vùng Đồng bằng sông Hồng' 'Vùng Bắc Trung Bộ và Duyên hải miền Trung'\n",
            " 'Vùng Tây Nguyên' 'Vùng Trung du và Miền núi phía Bắc' 'Nước ngoài']\n",
            "['KTPM0001' 'HTTT0001' 'KHMT2013' 'MMTT0001' 'KHMT0001' 'CNTT2013'\n",
            " 'KTPM2013' 'ANTT2013' 'KTMT2013' 'MMTT2013' 'KTMT0001' 'CNTT0001'\n",
            " 'CTTT2013' 'HTTT2013' 'TMĐT2013' 'CNTT2014' 'HTTT2014' 'ANTT2014'\n",
            " 'KTPM2014' 'KTMT2014' 'KHMT2014' 'MMTT2014' 'CTTT2014' 'KHMT2016'\n",
            " 'TMĐT2014' 'HTTT2015' 'CTTT2015' 'KHMT2015' 'KTPM2015' 'TMĐT2015'\n",
            " 'ATTT2015' 'CNTT2015' 'MMTT2015' 'KTMT2015' 'HTTT2016' 'CNTT2016'\n",
            " 'TMĐT2016' 'KTMT2016' 'ATTT2016' 'MMTT2016' 'CTTT2016' 'KTPM2016'\n",
            " 'KTPM2017' 'ATTN2017' 'ATTT2017' 'KHMT2017' 'PMCL2017' 'HTTT2017'\n",
            " 'KTMT2017' 'MMTT2017' 'CNTT2017' 'TMĐT2017' 'HTCL2017' 'KHCL2017'\n",
            " 'ATCL2017' 'MTCL2017' 'MMCL2017' 'CTTT2017' 'PMCL2018' 'TMĐT2018'\n",
            " 'KTPM2018' 'KHMT2018' 'CNTT2018' 'HTTT2018' 'ATTN2018' 'ATTT2018'\n",
            " 'MMTT2018' 'ATCL2018' 'KHTN2018' 'HTCL2018' 'MTCL2018' 'KTMT2018'\n",
            " 'KHDL2018' 'CNCL2018' 'KHCL2018' 'CTTT2018' 'MMCL2018' 'KHCL2019'\n",
            " 'CTTT2019' 'ATCL2019' 'TMĐT2019' 'CNTT2019' 'ATTT2019' 'CNCL2019'\n",
            " 'PMCL2019' 'KTMT2019' 'KHMT2019' 'KTPM2019' 'KHDL2019' 'HTTT2019'\n",
            " 'KHTN2019' 'HTCL2019' 'ATTN2019' 'MMTT2019' 'MMCL2019' 'MTCL2019'\n",
            " 'TMCL2019']\n",
            "[' CNPM' ' HTTT' ' KHMT' ' MMT&TT' ' KTTT' ' KTMT']\n",
            "['D480103' 'D480104' 'D480101' 'D480201' 'D52480104' 'D480102' 'D520214'\n",
            " 'D480299' '7480102' '7480201_KHDL' '7480201_CLCN' '7480109']\n",
            "['Vùng Đông Nam Bộ' 'Vùng Đồng bằng sông Hồng'\n",
            " 'Vùng Bắc Trung Bộ và Duyên hải miền Trung' 'Vùng Tây Nguyên'\n",
            " 'Vùng Đồng bằng sông Cửu Long' nan 'Vùng Trung du và Miền núi phía Bắc']\n"
          ]
        }
      ]
    },
    {
      "cell_type": "markdown",
      "source": [
        "##Điểm"
      ],
      "metadata": {
        "id": "Yvs-6hHOXpgz"
      }
    },
    {
      "cell_type": "code",
      "source": [
        "diem_cols"
      ],
      "metadata": {
        "colab": {
          "base_uri": "https://localhost:8080/"
        },
        "id": "iivfgQnqXrIy",
        "outputId": "48869e7a-26a7-4c57-dc3e-05b664ccc755"
      },
      "execution_count": null,
      "outputs": [
        {
          "output_type": "execute_result",
          "data": {
            "text/plain": [
              "['sotc_rot1',\n",
              " 'sotc_rot2',\n",
              " 'sotc_rot3',\n",
              " 'sotc_rot4',\n",
              " 'sotc_rot5',\n",
              " 'sotc_rot6',\n",
              " 'sotc_rot7',\n",
              " 'sotc_rot8',\n",
              " 'tc_rot_tong',\n",
              " 'rotmon_3_5',\n",
              " 'tctichluy1',\n",
              " 'tctichluy2',\n",
              " 'tctichluy3',\n",
              " 'tctichluy4',\n",
              " 'tctichluy5',\n",
              " 'tctichluy6',\n",
              " 'tc_tichluy_3_5']"
            ]
          },
          "metadata": {},
          "execution_count": 148
        }
      ]
    },
    {
      "cell_type": "code",
      "source": [
        "def count_valid_invalid(df, diem_cols):\n",
        "    invalid_count = 0\n",
        "\n",
        "    for col in diem_cols:\n",
        "        if col in df.columns:\n",
        "            # Lọc giá trị hợp lệ (không null và >= 0)\n",
        "            invalid_values = df[col].apply(lambda x: x <= 0 or pd.isnull(x))\n",
        "            invalid_count_col = valid_values.sum()\n",
        "\n",
        "            # Tính IQR để kiểm tra outliers\n",
        "            q1 = df[col].quantile(0.25)\n",
        "            q3 = df[col].quantile(0.75)\n",
        "            iqr = q3 - q1\n",
        "            lower_bound = q1 - 1.5 * iqr\n",
        "            upper_bound = q3 + 1.5 * iqr\n",
        "\n",
        "            # Kiểm tra outliers (giá trị nằm ngoài phạm vi [lower_bound, upper_bound])\n",
        "            outliers_col = df[col].apply(lambda x: x < lower_bound or x > upper_bound)\n",
        "            invalid_outliers_col = outliers_col.sum()\n",
        "\n",
        "            invalid = valid_values + outliers_col\n",
        "            invalid_count_col = invalid.sum()\n",
        "\n",
        "            # Cập nhật số lượng\n",
        "            invalid_count += invalid_count_col\n",
        "\n",
        "    return invalid_count\n",
        "print(count_valid_invalid(daxuly,diem_cols))"
      ],
      "metadata": {
        "colab": {
          "base_uri": "https://localhost:8080/"
        },
        "id": "FzPFEcSMX-jD",
        "outputId": "b0307a7a-6cba-42ce-fec1-6ec66fdb742b"
      },
      "execution_count": null,
      "outputs": [
        {
          "output_type": "stream",
          "name": "stdout",
          "text": [
            "18773\n"
          ]
        }
      ]
    },
    {
      "cell_type": "code",
      "source": [
        "#cập nhật số liệu\n",
        "invalid_daxuly += count_valid_invalid(daxuly,diem_cols)"
      ],
      "metadata": {
        "id": "rBhtKfyaaAsb"
      },
      "execution_count": null,
      "outputs": []
    },
    {
      "cell_type": "markdown",
      "source": [
        "##chứng chỉ"
      ],
      "metadata": {
        "id": "FTQ6gEgsaaTB"
      }
    },
    {
      "cell_type": "code",
      "source": [
        "chungchi_cols"
      ],
      "metadata": {
        "colab": {
          "base_uri": "https://localhost:8080/"
        },
        "id": "eXwBlQSsacda",
        "outputId": "84e21ec4-d723-4a80-ca12-90b30f934610"
      },
      "execution_count": null,
      "outputs": [
        {
          "output_type": "execute_result",
          "data": {
            "text/plain": [
              "['socc_tienganh', 'tienganh']"
            ]
          },
          "metadata": {},
          "execution_count": 151
        }
      ]
    },
    {
      "cell_type": "code",
      "source": [
        "daxuly['socc_tienganh'].unique()"
      ],
      "metadata": {
        "colab": {
          "base_uri": "https://localhost:8080/"
        },
        "id": "WUnZ9HOuaiD7",
        "outputId": "3a0e32c8-c436-4ed2-ac72-7926206cfe27"
      },
      "execution_count": null,
      "outputs": [
        {
          "output_type": "execute_result",
          "data": {
            "text/plain": [
              "array([1., 0., 2., 3.])"
            ]
          },
          "metadata": {},
          "execution_count": 152
        }
      ]
    },
    {
      "cell_type": "code",
      "source": [
        "daxuly['tienganh'].unique()"
      ],
      "metadata": {
        "colab": {
          "base_uri": "https://localhost:8080/"
        },
        "id": "QYM6blIGanAk",
        "outputId": "aa1df044-6ce6-445e-9a6b-bd403dc923e1"
      },
      "execution_count": null,
      "outputs": [
        {
          "output_type": "execute_result",
          "data": {
            "text/plain": [
              "array(['Unknown', '0', 'TOEIC_LR', 'IELTS', 'TOIEC', 'TOEIC_LR, TOEIC_SW',\n",
              "       'TOEIC_LR, VNU-EPT', 'VNU-EPT', 'TOEIC_SW', 'Cambrigde', 'NHAT',\n",
              "       'IELTS, TOEIC_LR', 'TOEFL iBT', 'TOEIC_LR, TOEIC_SW, VNU-EPT',\n",
              "       'NHAT, TOEIC_LR', 'Cambrigde, TOEIC_LR', 'PHAP', 'DGNL'],\n",
              "      dtype=object)"
            ]
          },
          "metadata": {},
          "execution_count": 153
        }
      ]
    },
    {
      "cell_type": "markdown",
      "source": [
        "Do chưa xử lý nên các giá trị bị trùng lặp dẫn đến sai số lượng và liệt kê => toàn bộ 2 cột socc_tienganh và tienganh khi chưa xử lý đều sai"
      ],
      "metadata": {
        "id": "sg3ttPhTbMsl"
      }
    },
    {
      "cell_type": "code",
      "source": [
        "chuaxuly['socc_tienganh'].unique()"
      ],
      "metadata": {
        "colab": {
          "base_uri": "https://localhost:8080/"
        },
        "id": "vhCot1pOaxT8",
        "outputId": "a7a0b05b-6a33-4b28-eb9d-4da0550ed6bb"
      },
      "execution_count": null,
      "outputs": [
        {
          "output_type": "execute_result",
          "data": {
            "text/plain": [
              "array([nan,  2.,  4.,  3.,  6.])"
            ]
          },
          "metadata": {},
          "execution_count": 154
        }
      ]
    },
    {
      "cell_type": "code",
      "source": [
        "chuaxuly['tienganh'].unique()"
      ],
      "metadata": {
        "colab": {
          "base_uri": "https://localhost:8080/"
        },
        "id": "hhqdRpNza4lp",
        "outputId": "50d4a3b0-ab03-4723-c3a2-37842e1052f8"
      },
      "execution_count": null,
      "outputs": [
        {
          "output_type": "execute_result",
          "data": {
            "text/plain": [
              "array([nan, \"TOEIC_LR +  'TOEIC_LR'\", \" IELTS +  'IELTS'\",\n",
              "       \" TOIEC +  'TOIEC'\",\n",
              "       \"TOEIC_LR + TOEIC_SW +  'TOEIC_LR' +  'TOEIC_SW'\",\n",
              "       \"TOEIC_LR +  VNU-EPT +  'TOEIC_LR' +  'VNU-EPT'\",\n",
              "       \" VNU-EPT +  'VNU-EPT'\",\n",
              "       \"TOEIC_SW + TOEIC_LR +  'TOEIC_SW' +  'TOEIC_LR'\",\n",
              "       \"TOEIC_SW +  'TOEIC_SW'\", \" Cambrigde +  'Cambrigde'\",\n",
              "       \" NHAT +  'NHAT'\", \"TOEIC_LR +  IELTS +  'TOEIC_LR' +  'IELTS'\",\n",
              "       \" TOEFL iBT +  'TOEFL iBT'\",\n",
              "       \"TOEIC_LR +  'TOEIC_LR' +  'TOEIC_SW'\",\n",
              "       \"TOEIC_LR + TOEIC_SW +  VNU-EPT +  'TOEIC_LR' +  'TOEIC_SW' +  'VNU-EPT'\",\n",
              "       \"TOEIC_LR +  NHAT +  'TOEIC_LR' +  'NHAT'\",\n",
              "       \"TOEIC_SW +  'TOEIC_SW' +  'TOEIC_LR'\",\n",
              "       \"TOEIC_LR +  'TOEIC_LR' +  'IELTS'\",\n",
              "       \" Cambrigde + TOEIC_LR +  'Cambrigde' +  'TOEIC_LR'\",\n",
              "       \" PHAP +  'PHAP'\", \"TOEIC_LR +  'TOEIC_LR' +  'Cambrigde'\",\n",
              "       \" DGNL +  'DGNL'\"], dtype=object)"
            ]
          },
          "metadata": {},
          "execution_count": 155
        }
      ]
    },
    {
      "cell_type": "code",
      "source": [
        "invalid_chuaxuly += len(chuaxuly)*2"
      ],
      "metadata": {
        "id": "iTHs3V3dbYmT"
      },
      "execution_count": null,
      "outputs": []
    },
    {
      "cell_type": "markdown",
      "source": [
        "##thí sinh"
      ],
      "metadata": {
        "id": "Q6BKSYAcbk_1"
      }
    },
    {
      "cell_type": "code",
      "source": [
        "thisinh_cols"
      ],
      "metadata": {
        "colab": {
          "base_uri": "https://localhost:8080/"
        },
        "id": "1IwVMhJ6brEk",
        "outputId": "24e1b2f8-4af4-4d03-d889-5548b7125194"
      },
      "execution_count": null,
      "outputs": [
        {
          "output_type": "execute_result",
          "data": {
            "text/plain": [
              "['dien_tt', 'diem_tt', 'lop12_matinh', 'lop12_matruong']"
            ]
          },
          "metadata": {},
          "execution_count": 157
        }
      ]
    },
    {
      "cell_type": "code",
      "source": [
        "daxuly['dien_tt'].unique()"
      ],
      "metadata": {
        "colab": {
          "base_uri": "https://localhost:8080/"
        },
        "id": "E4bJtUotbymk",
        "outputId": "0369c7cf-8a98-4b92-c110-8a7e85adbb80"
      },
      "execution_count": null,
      "outputs": [
        {
          "output_type": "execute_result",
          "data": {
            "text/plain": [
              "array(['THPT', 'TT-Bộ', 'CUTUYEN', 'ƯT-Bộ', '30A', 'ƯT-ĐHQG', 'ĐGNL',\n",
              "       'CCQT'], dtype=object)"
            ]
          },
          "metadata": {},
          "execution_count": 158
        }
      ]
    },
    {
      "cell_type": "code",
      "source": [
        "def check_diem_tt(series):\n",
        "\n",
        "    # Đếm số lượng giá trị không hợp lệ trong toàn bộ DataFrame\n",
        "    valid_count = series.apply(lambda x: x is not None and ((0.0 <= x <= 30.0) or (600.0 <= x <= 1200.0))).sum()\n",
        "    return len(series) - valid_count\n",
        "print('Số giá trị không hợp lệ của đã xử lý : ',check_diem_tt(daxuly['diem_tt']))\n",
        "print('Số giá trị không hợp lệ của chưa xử lý: ',check_diem_tt(chuaxuly['diem_tt']))\n",
        "invalid_daxuly += check_diem_tt(daxuly['diem_tt'])\n",
        "invalid_chuaxuly += check_diem_tt(chuaxuly['diem_tt'])"
      ],
      "metadata": {
        "colab": {
          "base_uri": "https://localhost:8080/"
        },
        "id": "onyvDhMyb4xk",
        "outputId": "41f1e9b2-bc38-4f2b-b5ff-74c4afb28fc6"
      },
      "execution_count": null,
      "outputs": [
        {
          "output_type": "stream",
          "name": "stdout",
          "text": [
            "Số giá trị không hợp lệ của đã xử lý :  115\n",
            "Số giá trị không hợp lệ của chưa xử lý:  265\n"
          ]
        }
      ]
    },
    {
      "cell_type": "markdown",
      "source": [
        "##XLHV"
      ],
      "metadata": {
        "id": "_-IOpeILdm8s"
      }
    },
    {
      "cell_type": "code",
      "source": [
        "xlhv_cols"
      ],
      "metadata": {
        "colab": {
          "base_uri": "https://localhost:8080/"
        },
        "id": "hEmBfQjSdeGR",
        "outputId": "2f37c04b-60a4-433f-ef78-2dbedb3c4ae5"
      },
      "execution_count": null,
      "outputs": [
        {
          "output_type": "execute_result",
          "data": {
            "text/plain": [
              "['canhcao']"
            ]
          },
          "metadata": {},
          "execution_count": 160
        }
      ]
    },
    {
      "cell_type": "code",
      "source": [
        "print(daxuly['canhcao'].isnull().sum())\n",
        "print(chuaxuly['canhcao'].isnull().sum())\n",
        "invalid_daxuly += daxuly['canhcao'].isnull().sum()\n",
        "invalid_chuaxuly += chuaxuly['canhcao'].isnull().sum()"
      ],
      "metadata": {
        "colab": {
          "base_uri": "https://localhost:8080/"
        },
        "id": "UgHt3ddXdeuS",
        "outputId": "ed338d7e-169c-43e1-bd4b-1bf3cfdfdb9a"
      },
      "execution_count": null,
      "outputs": [
        {
          "output_type": "stream",
          "name": "stdout",
          "text": [
            "0\n",
            "6092\n"
          ]
        }
      ]
    },
    {
      "cell_type": "markdown",
      "source": [
        "##Điểm rèn luyện"
      ],
      "metadata": {
        "id": "2Aehp6Und4rg"
      }
    },
    {
      "cell_type": "code",
      "source": [
        "drl_cols"
      ],
      "metadata": {
        "colab": {
          "base_uri": "https://localhost:8080/"
        },
        "id": "dDD0HuAAd6IN",
        "outputId": "d11a46ff-d511-447f-9822-b43d8bb24ca9"
      },
      "execution_count": null,
      "outputs": [
        {
          "output_type": "execute_result",
          "data": {
            "text/plain": [
              "['drlnam2', 'drlnam3', 'drlnam4', 'drlnam5', 'drlnam6', 'drl_3_5', 'tb_drl']"
            ]
          },
          "metadata": {},
          "execution_count": 162
        }
      ]
    },
    {
      "cell_type": "code",
      "source": [
        "def check_drl(df, columns):\n",
        "    outliers_count = 0\n",
        "\n",
        "    # Duyệt qua từng cột để tính số lượng outliers\n",
        "    for col in columns:\n",
        "        if col in df.columns:\n",
        "            # Tính Q1, Q3 và IQR\n",
        "            Q1 = df[col].quantile(0.25)\n",
        "            Q3 = df[col].quantile(0.75)\n",
        "            IQR = Q3 - Q1\n",
        "\n",
        "            # Xác định các giá trị outliers\n",
        "            lower_bound = Q1 - 1.5 * IQR\n",
        "            upper_bound = Q3 + 1.5 * IQR\n",
        "\n",
        "            # Đếm số lượng outliers\n",
        "            outliers_in_col = ((df[col] < lower_bound) | (df[col] > upper_bound)).sum()\n",
        "            outliers_count += outliers_in_col\n",
        "\n",
        "    return outliers_count\n",
        "\n",
        "print(check_drl(daxuly,drl_cols))\n",
        "print(check_drl(chuaxuly,drl_cols))\n",
        "invalid_daxuly += check_drl(daxuly,drl_cols)\n",
        "invalid_chuaxuly += check_drl(chuaxuly,drl_cols)"
      ],
      "metadata": {
        "colab": {
          "base_uri": "https://localhost:8080/"
        },
        "id": "U6UXs_h4d64p",
        "outputId": "9ed33e6e-aac6-41d2-e9d6-5c873b692e7e"
      },
      "execution_count": null,
      "outputs": [
        {
          "output_type": "stream",
          "name": "stdout",
          "text": [
            "1044\n",
            "903\n"
          ]
        }
      ]
    },
    {
      "cell_type": "markdown",
      "source": [
        "##Tốt nghiệp"
      ],
      "metadata": {
        "id": "n10QCYihehnk"
      }
    },
    {
      "cell_type": "code",
      "source": [
        "tn_cols"
      ],
      "metadata": {
        "colab": {
          "base_uri": "https://localhost:8080/"
        },
        "id": "ruOlIWV3ejb9",
        "outputId": "ef7523cc-6310-467b-ab41-3ba10ff72790"
      },
      "execution_count": null,
      "outputs": [
        {
          "output_type": "execute_result",
          "data": {
            "text/plain": [
              "['soquyetdinh', 'ngaycapvb']"
            ]
          },
          "metadata": {},
          "execution_count": 164
        }
      ]
    },
    {
      "cell_type": "code",
      "source": [
        "print(daxuly['soquyetdinh'].isnull().sum() + daxuly['ngaycapvb'].isnull().sum())\n",
        "print(chuaxuly['soquyetdinh'].isnull().sum() + chuaxuly['ngaycapvb'].isnull().sum())\n",
        "invalid_daxuly += daxuly['soquyetdinh'].isnull().sum() + daxuly['ngaycapvb'].isnull().sum()\n",
        "invalid_chuaxuly += chuaxuly['soquyetdinh'].isnull().sum() + chuaxuly['ngaycapvb'].isnull().sum()"
      ],
      "metadata": {
        "colab": {
          "base_uri": "https://localhost:8080/"
        },
        "id": "ICGgxH7iek5i",
        "outputId": "555d0990-9c45-4af1-b7eb-1e76c2e025af"
      },
      "execution_count": null,
      "outputs": [
        {
          "output_type": "stream",
          "name": "stdout",
          "text": [
            "12508\n",
            "12508\n"
          ]
        }
      ]
    },
    {
      "cell_type": "code",
      "source": [
        "def kiem_tra_date(series, df):\n",
        "\n",
        "    converted_ymd = pd.to_datetime(series.dropna(), format='%Y-%m-%d', errors='coerce')\n",
        "    invalid_count_ymd = converted_ymd.isna().sum()\n",
        "\n",
        "    converted_dmy = pd.to_datetime(series.dropna(), format='%d/%m/%Y', errors='coerce')\n",
        "    invalid_count_dmy = converted_dmy.isna().sum()\n",
        "\n",
        "    invalid_count_ymd + invalid_count_dmy\n",
        "    if invalid_count_ymd <= invalid_count_dmy:\n",
        "        date_format = '%Y-%m-%d'\n",
        "        invalid_count = invalid_count_ymd\n",
        "    else:\n",
        "        date_format = '%d/%m/%Y'\n",
        "        invalid_count = invalid_count_dmy\n",
        "\n",
        "    print(f\"Using date format: {date_format}\")\n",
        "\n",
        "    return invalid_count"
      ],
      "metadata": {
        "id": "ZkHSDGVxhjgS"
      },
      "execution_count": null,
      "outputs": []
    },
    {
      "cell_type": "code",
      "source": [
        "#Kiểu dữ liệu của ngaycapvb bị sai\n",
        "print(kiem_tra_date(daxuly['ngaycapvb'], daxuly))\n",
        "print(kiem_tra_date(chuaxuly['ngaycapvb'], chuaxuly))"
      ],
      "metadata": {
        "colab": {
          "base_uri": "https://localhost:8080/"
        },
        "outputId": "1d597211-578d-482e-d81f-abf7439b1802",
        "id": "j9zlAWu1hjgS"
      },
      "execution_count": null,
      "outputs": [
        {
          "output_type": "stream",
          "name": "stdout",
          "text": [
            "Using date format: %Y-%m-%d\n",
            "0\n",
            "Using date format: %Y-%m-%d\n",
            "1572\n"
          ]
        }
      ]
    },
    {
      "cell_type": "code",
      "source": [
        "invalid_daxuly += kiem_tra_date(daxuly['ngaycapvb'], daxuly)\n",
        "invalid_chuaxuly += kiem_tra_date(chuaxuly['ngaycapvb'], chuaxuly)"
      ],
      "metadata": {
        "colab": {
          "base_uri": "https://localhost:8080/"
        },
        "outputId": "6c46c636-55f1-4d9e-ada2-5e9e57823a75",
        "id": "f-simdz9hjgT"
      },
      "execution_count": null,
      "outputs": [
        {
          "output_type": "stream",
          "name": "stdout",
          "text": [
            "Using date format: %Y-%m-%d\n",
            "Using date format: %Y-%m-%d\n"
          ]
        }
      ]
    },
    {
      "cell_type": "markdown",
      "source": [
        "##Điểm năm học"
      ],
      "metadata": {
        "id": "pEVuL_xXe9O-"
      }
    },
    {
      "cell_type": "code",
      "source": [
        "dtb_hocky_cols"
      ],
      "metadata": {
        "colab": {
          "base_uri": "https://localhost:8080/"
        },
        "id": "DVlBNirie-bs",
        "outputId": "3c575ed2-deeb-43f1-b3db-2c5a5407099f"
      },
      "execution_count": null,
      "outputs": [
        {
          "output_type": "execute_result",
          "data": {
            "text/plain": [
              "['diemnamhoc1',\n",
              " 'diemnamhoc2',\n",
              " 'diemnamhoc3',\n",
              " 'diemnamhoc4',\n",
              " 'diemnamhoc5',\n",
              " 'diemnamhoc6',\n",
              " 'diem_3_5']"
            ]
          },
          "metadata": {},
          "execution_count": 169
        }
      ]
    },
    {
      "cell_type": "code",
      "source": [
        "def check_diemnamhoc(df, cols):\n",
        "    invalid_count = 0\n",
        "\n",
        "    for col in cols:\n",
        "        if col in df.columns:\n",
        "            # Lọc giá trị hợp lệ (không null và >= 0)\n",
        "            invalid_values = df[col].apply(lambda x: x < 0 or pd.isnull(x) or x> 10)\n",
        "            invalid_count_col = invalid_values.sum()\n",
        "\n",
        "            # Cập nhật số lượng\n",
        "            invalid_count += invalid_count_col\n",
        "\n",
        "    return invalid_count\n",
        "print(check_diemnamhoc(daxuly,dtb_hocky_cols))\n",
        "print(check_diemnamhoc(chuaxuly,dtb_hocky_cols))\n",
        "invalid_daxuly += check_diemnamhoc(daxuly,dtb_hocky_cols)\n",
        "invalid_chuaxuly += check_diemnamhoc(chuaxuly,dtb_hocky_cols)"
      ],
      "metadata": {
        "colab": {
          "base_uri": "https://localhost:8080/"
        },
        "id": "-zdq7aI4falG",
        "outputId": "cce058cc-a566-4f08-c2c0-7a0f147e1589"
      },
      "execution_count": null,
      "outputs": [
        {
          "output_type": "stream",
          "name": "stdout",
          "text": [
            "14837\n",
            "14838\n"
          ]
        }
      ]
    },
    {
      "cell_type": "markdown",
      "source": [
        "##dtb_toankhoa_cols"
      ],
      "metadata": {
        "id": "TlwMY5uAftku"
      }
    },
    {
      "cell_type": "code",
      "source": [
        "dtb_toankhoa_cols"
      ],
      "metadata": {
        "colab": {
          "base_uri": "https://localhost:8080/"
        },
        "id": "B4GTRpligC3_",
        "outputId": "63466fe7-d373-4298-b501-7ff26418f5ea"
      },
      "execution_count": null,
      "outputs": [
        {
          "output_type": "execute_result",
          "data": {
            "text/plain": [
              "['dtb_toankhoa', 'dtb_tichluy']"
            ]
          },
          "metadata": {},
          "execution_count": 171
        }
      ]
    },
    {
      "cell_type": "code",
      "source": [
        "def check_toankhoa(df, cols):\n",
        "    invalid_count = 0\n",
        "\n",
        "    for col in cols:\n",
        "        if col in df.columns:\n",
        "            invalid_values = df[col].apply(lambda x: x < 0.0 or pd.isnull(x) or x > 10.0)\n",
        "            invalid_count_col = invalid_values.sum()\n",
        "\n",
        "            # Cập nhật số lượng giá trị không hợp lệ\n",
        "            invalid_count += invalid_count_col\n",
        "\n",
        "    return invalid_count\n",
        "\n",
        "# Ví dụ sử dụng\n",
        "print(check_toankhoa(daxuly, dtb_toankhoa_cols))\n",
        "print(check_toankhoa(chuaxuly, dtb_toankhoa_cols))\n",
        "invalid_daxuly += check_toankhoa(daxuly, dtb_toankhoa_cols)\n",
        "invalid_chuaxuly += check_toankhoa(chuaxuly, dtb_toankhoa_cols)"
      ],
      "metadata": {
        "colab": {
          "base_uri": "https://localhost:8080/"
        },
        "id": "42y8jO-agFPJ",
        "outputId": "3171dcb2-ad30-4eba-9440-4830034575f4"
      },
      "execution_count": null,
      "outputs": [
        {
          "output_type": "stream",
          "name": "stdout",
          "text": [
            "50\n",
            "50\n"
          ]
        }
      ]
    },
    {
      "cell_type": "markdown",
      "source": [
        "##Accuracy tổng"
      ],
      "metadata": {
        "id": "K15PQke_h_Zi"
      }
    },
    {
      "cell_type": "code",
      "source": [
        "daxuly.size"
      ],
      "metadata": {
        "colab": {
          "base_uri": "https://localhost:8080/"
        },
        "id": "-dWb2A5NiHxq",
        "outputId": "18411242-cf0e-47b8-ca51-d5b44fc2e1a0"
      },
      "execution_count": null,
      "outputs": [
        {
          "output_type": "execute_result",
          "data": {
            "text/plain": [
              "461734"
            ]
          },
          "metadata": {},
          "execution_count": 173
        }
      ]
    },
    {
      "cell_type": "code",
      "source": [
        "accuracy_daxuly = (daxuly.size - invalid_daxuly)/daxuly.size\n",
        "accuracy_chuaxuly = (chuaxuly.size - invalid_chuaxuly)/chuaxuly.size\n",
        "print('Accuracy của dữ liệu đã xử lý : ',accuracy_daxuly)\n",
        "print('Accuracy của dữ liệu chưa xử lý : ',accuracy_chuaxuly)"
      ],
      "metadata": {
        "colab": {
          "base_uri": "https://localhost:8080/"
        },
        "id": "K8-54f0JiBx_",
        "outputId": "fd8f4f16-b3d0-4254-94c6-3991cdbcef31"
      },
      "execution_count": null,
      "outputs": [
        {
          "output_type": "stream",
          "name": "stdout",
          "text": [
            "Accuracy của dữ liệu đã xử lý :  0.8975015918255965\n",
            "Accuracy của dữ liệu chưa xử lý :  0.8300209033661627\n"
          ]
        }
      ]
    },
    {
      "cell_type": "markdown",
      "source": [
        "#Completeness"
      ],
      "metadata": {
        "id": "J_s4tOEjI5ID"
      }
    },
    {
      "cell_type": "code",
      "source": [
        "def completeness_check(df):\n",
        "  total_cells = df.size  # Tổng số ô dữ liệu\n",
        "  missing_cells = df.isnull().sum().sum()  # Tổng số giá trị thiếu\n",
        "  missing_percentage = (missing_cells / total_cells) * 100  # Tỉ lệ %\n",
        "\n",
        "  print(f\"Tổng số ô dữ liệu: {total_cells}\")\n",
        "  print(f\"Số ô dữ liệu thiếu: {missing_cells}\")\n",
        "  print(f\"Tỉ lệ giá trị thiếu: {missing_percentage:.2f}%\")"
      ],
      "metadata": {
        "id": "8LD-wCjDIa4G"
      },
      "execution_count": null,
      "outputs": []
    },
    {
      "cell_type": "code",
      "source": [
        "completeness_check(daxuly)"
      ],
      "metadata": {
        "colab": {
          "base_uri": "https://localhost:8080/"
        },
        "id": "HUZ-pX9UIngC",
        "outputId": "84009ccc-4aec-4dff-8941-ef36c0f14b5f"
      },
      "execution_count": null,
      "outputs": [
        {
          "output_type": "stream",
          "name": "stdout",
          "text": [
            "Tổng số ô dữ liệu: 461734\n",
            "Số ô dữ liệu thiếu: 60596\n",
            "Tỉ lệ giá trị thiếu: 13.12%\n"
          ]
        }
      ]
    },
    {
      "cell_type": "code",
      "source": [
        "completeness_check(chuaxuly)"
      ],
      "metadata": {
        "colab": {
          "base_uri": "https://localhost:8080/"
        },
        "id": "-zEI8botI2SU",
        "outputId": "ba88ed12-df34-405d-88b4-17aeffbb5a91"
      },
      "execution_count": null,
      "outputs": [
        {
          "output_type": "stream",
          "name": "stdout",
          "text": [
            "Tổng số ô dữ liệu: 305214\n",
            "Số ô dữ liệu thiếu: 63269\n",
            "Tỉ lệ giá trị thiếu: 20.73%\n"
          ]
        }
      ]
    },
    {
      "cell_type": "markdown",
      "source": [
        "#Consistency"
      ],
      "metadata": {
        "id": "qnRUjg7zKw7F"
      }
    },
    {
      "cell_type": "code",
      "source": [
        "chuaxuly.info()"
      ],
      "metadata": {
        "colab": {
          "base_uri": "https://localhost:8080/"
        },
        "id": "41BSqzMHI4PM",
        "outputId": "e16b0cec-1f8a-497e-98af-935ebda9d70c"
      },
      "execution_count": null,
      "outputs": [
        {
          "output_type": "stream",
          "name": "stdout",
          "text": [
            "<class 'pandas.core.frame.DataFrame'>\n",
            "RangeIndex: 7826 entries, 0 to 7825\n",
            "Data columns (total 39 columns):\n",
            " #   Column          Non-Null Count  Dtype  \n",
            "---  ------          --------------  -----  \n",
            " 0   Unnamed: 0      7826 non-null   int64  \n",
            " 1   mssv            7826 non-null   object \n",
            " 2   soquyetdinh     1572 non-null   object \n",
            " 3   ngaycapvb       1572 non-null   object \n",
            " 4   namsinh         7826 non-null   float64\n",
            " 5   gioitinh        7826 non-null   float64\n",
            " 6   noisinh         7826 non-null   object \n",
            " 7   lopsh           7826 non-null   object \n",
            " 8   khoa            7826 non-null   object \n",
            " 9   hedt            7826 non-null   object \n",
            " 10  khoahoc         7826 non-null   float64\n",
            " 11  chuyennganh2    7826 non-null   object \n",
            " 12  tinhtrang       7826 non-null   float64\n",
            " 13  diachi_tinhtp   7826 non-null   object \n",
            " 14  diemnamhoc1     7798 non-null   float64\n",
            " 15  diemnamhoc2     7407 non-null   float64\n",
            " 16  diemnamhoc3     7087 non-null   float64\n",
            " 17  diemnamhoc4     6788 non-null   float64\n",
            " 18  diemnamhoc5     3322 non-null   float64\n",
            " 19  diemnamhoc6     787 non-null    float64\n",
            " 20  diem_3_5        6755 non-null   float64\n",
            " 21  dtb_toankhoa    7801 non-null   float64\n",
            " 22  dtb_tichluy     7801 non-null   float64\n",
            " 23  sotc_tichluy    7801 non-null   float64\n",
            " 24  drlnam1         7771 non-null   float64\n",
            " 25  drlnam2         7475 non-null   float64\n",
            " 26  drlnam3         7140 non-null   float64\n",
            " 27  drlnam4         6830 non-null   float64\n",
            " 28  drlnam5         4188 non-null   float64\n",
            " 29  drlnam6         1862 non-null   float64\n",
            " 30  drl_3_5         6817 non-null   float64\n",
            " 31  canhcao         1734 non-null   float64\n",
            " 32  dien_tt         7801 non-null   object \n",
            " 33  diem_tt         7676 non-null   float64\n",
            " 34  lop12_matinh    5850 non-null   float64\n",
            " 35  lop12_matruong  5850 non-null   float64\n",
            " 36  tienganh        1361 non-null   object \n",
            " 37  socc_tienganh   1361 non-null   float64\n",
            " 38  label           7826 non-null   object \n",
            "dtypes: float64(26), int64(1), object(12)\n",
            "memory usage: 2.3+ MB\n"
          ]
        }
      ]
    },
    {
      "cell_type": "markdown",
      "source": [
        "\n",
        "\n",
        "- noisinh và diachi_tinhtp không đồng nhất ( lẫn giữa các giá trị huyện, tỉnh)\n",
        "\n",
        "- diem_tt không đồng nhất"
      ],
      "metadata": {
        "id": "6jFRVfnXK6R8"
      }
    },
    {
      "cell_type": "code",
      "source": [
        "chuaxuly['noisinh'].unique()"
      ],
      "metadata": {
        "colab": {
          "base_uri": "https://localhost:8080/"
        },
        "id": "SgvzEE7RzeRq",
        "outputId": "4cf02c2e-cfff-4dac-da60-7e874115bb2a"
      },
      "execution_count": null,
      "outputs": [
        {
          "output_type": "execute_result",
          "data": {
            "text/plain": [
              "array([' TP. Hồ Chí Minh', ' Đồng Tháp', ' Hà Nam Ninh',\n",
              "       ' Thành phố Hồ Chí Minh', ' Hà Tĩnh', ' Thanh Hóa', ' Quảng Ngãi',\n",
              "       ' Khánh Hoà', ' Gia Lai', ' Tiền Giang', ' Vĩnh Long', ' Sông Bé',\n",
              "       ' Kiên Giang', ' Lâm Đồng', ' Hải Dương', ' Trà Vinh', ' Nam Định',\n",
              "       ' Quảng Nam', ' Bình Thuận', ' Quảng Bình', ' Bến Tre',\n",
              "       ' Ninh Thuận', ' Bình Định', ' An Giang', ' Bà Rịa - Vũng Tàu',\n",
              "       ' Kon Tum', ' Tây Ninh', ' Hà Nội', ' Đồng Nai', ' Cần Thơ',\n",
              "       ' Thanh Hoá', ' Nghệ An', ' Thừa Thiên Huế', ' NULL', ' Phú Yên',\n",
              "       ' Đăk Lăk', ' Tp Hồ Chí Minh', ' Đắc Nông', ' Bình Dương',\n",
              "       ' Khánh Hòa', ' Long An', ' Thái Bình', ' Bình Phước',\n",
              "       ' Hà Sơn Bình', ' Đà Nẵng', ' Ninh Bình', ' Cà Mau', ' Quảng Trị',\n",
              "       ' Hải Hưng', ' Hưng Yên', ' Hà Tây', ' Thành phố Cần Thơ',\n",
              "       ' Đắk Lắk', ' Tỉnh Đồng Nai', ' Đắk Nông', ' Bắc Giang',\n",
              "       ' Thành phố Đà Nẵng', ' Hải Phòng', ' Tỉnh Bình Dương',\n",
              "       ' Minh Hải', ' Hà Nam', ' Hậu Giang', \" 'Tây Ninh'\",\n",
              "       \" 'Tiền Giang'\", \" 'Bình Định'\", \" 'Đồng Tháp'\", \" 'Phú Yên'\",\n",
              "       \" 'Đồng Nai'\", \" 'TP. Hồ Chí Minh'\", \" 'Quảng Ngãi'\",\n",
              "       \" 'Quảng Nam'\", \" 'Bình Dương'\", \" 'Đăk Lăk'\", \" 'Gia Lai'\",\n",
              "       \" 'Bến Tre'\", \" 'Bà Rịa - Vũng Tàu'\", \" 'Ninh Bình'\",\n",
              "       \" 'An Giang'\", \" 'Lâm Đồng'\", \" 'Nghệ An'\", \" 'Khánh Hoà'\",\n",
              "       \" 'Thành phố Hồ Chí Minh'\", \" 'Quảng Bình'\", \" 'Thừa Thiên Huế'\",\n",
              "       \" 'Bình Thuận'\", \" 'Long An'\", \" 'Ninh Thuận'\", \" 'Bắc Cạn'\",\n",
              "       \" 'Kon Tum'\", \" 'Thanh Hoá'\", \" 'Hà Tĩnh'\", \" 'Sóc Trăng'\",\n",
              "       \" 'Cần Thơ'\", \" 'Quảng Trị'\", \" 'Đắk Lắk'\", \" 'Sông Bé'\",\n",
              "       \" 'Hà Nam Ninh'\", \" 'Nam Định'\", \" 'Đà Nẵng'\", \" 'Vĩnh Phúc'\",\n",
              "       \" 'Thành phố Đà Nẵng'\", \" 'Cà Mau'\", \" 'Tp Hồ Chí Minh'\",\n",
              "       \" 'Hà Tây'\", \" 'Khánh Hòa'\", \" 'Đắk Nông'\", \" 'Kiên Giang'\",\n",
              "       \" 'Bạc Liêu'\", \" 'Thành phố Cần Thơ'\", \" 'Hải Dương'\",\n",
              "       \" 'Thái Bình'\", \" 'Tỉnh Tây Ninh'\", \" 'Vĩnh Long'\", \" 'Thanh Hóa'\",\n",
              "       \" 'Hưng Yên'\", \" 'Bình Phước'\", \" 'Hải Phòng'\", \" 'Bắc Ninh'\",\n",
              "       \" 'Hồ Chí Minh City'\", \" 'Trà Vinh'\", \" 'Bắc Giang'\", \" 'Hà Nội'\",\n",
              "       \" 'Tỉnh Đồng Nai'\", \" 'Liên Bang Nga'\", \" 'Tp. Nha Trang'\",\n",
              "       \" 'Nghĩa Sơn - Nghĩa Hưng - Nam Định'\", \" 'Thành phố Hà Nội'\",\n",
              "       \" 'KonTum'\", \" 'Bình Định'\", \" 'Quảng Ninh'\", \" 'Phú Thọ'\",\n",
              "       \" 'Tp.Hồ Chí Minh'\", \" 'Lạng Sơn'\", \" 'Đắc Nông'\",\n",
              "       \" 'Cộng hoà Séc'\", \" 'Yên Bái'\", \" 'Hà Nam'\", \" 'Tỉnh Đăklăk'\",\n",
              "       \" 'Thái Bình'\", \" 'Tiền giang'\", \" 'ĐăkLăk'\", \" 'Quảng Nam'\",\n",
              "       \" 'Nghệ an'\", \" 'Đồng Tháp'\", \" 'Gia lai'\", \" 'Quãng Ngãi'\",\n",
              "       \" 'Hậu Giang'\", \" 'Nghệ an'\", \" 'Tp. Hồ Chí Minh'\", \" 'Đà Lạt'\",\n",
              "       \" 'Lâm Đồng'\", \" ''\", \" 'Thành phố Hải Phòng'\", \" 'Nghệ An'\",\n",
              "       \" 'nam định'\", \" 'Hà Tĩnh'\", \" 'phú yên'\", \" 'Tỉnh Ninh Thuận'\",\n",
              "       \" 'Đồng Nai'\", \" 'đồng nai'\", \" 'Bình Phước '\",\n",
              "       \" 'Tỉnh Thanh Hóa'\", \" 'TP.HỒ CHÍ MINH'\",\n",
              "       \" 'Thành Phố Hồ Chí Minh'\", \" 'Cao Bằng'\",\n",
              "       \" 'Thành phố Hồ Chí Minh'\", \" 'Hà Tĩnh '\", \" 'Đăk lăk'\",\n",
              "       \" 'Trà vinh'\", \" 'Nghệ An '\", \" 'Nam Định'\", \" 'Bình Thuận '\",\n",
              "       \" 'Bà Rịa Vũng Tàu'\", \" 'Đồng Tháp '\", \" 'Tp.Hồ Chí Minh'\",\n",
              "       \" 'Tiền Giang '\", \" 'Tp.Hải Phòng'\", \" 'Bình Thuận'\",\n",
              "       \" 'Sóc Trăng'\", \" 'Tỉnh Nghệ An'\", \" 'Bình Định '\",\n",
              "       \" 'Tiền Giang'\", \" 'Ninh Thuận '\", \" 'Hà tĩnh'\",\n",
              "       \" 'Quảng Ngãi'\", \" 'Bà Rịa-Vũng Tàu'\", \" 'Kontum'\",\n",
              "       \" 'Quảng Trị'\", \" 'Tp. Vũng Tàu'\", \" 'Bến Tre'\",\n",
              "       \" 'Tỉnh Khánh Hòa'\", \" 'TP Hồ Chí Minh'\", \" 'TP.Hồ Chí Minh'\",\n",
              "       \" 'Hà Nam '\", \" 'Vĩnh Long'\", \" 'Quảng BÌnh'\", \" 'Sóc Trăng '\",\n",
              "       \" 'Hòa Bình'\", \" 'Phú Yên '\", \" 'Bình phước '\", \" 'Bình Dương'\",\n",
              "       \" 'TP.Hà Nội'\", \" 'Quảng Nam '\", \" 'hà tĩnh '\", \" 'Bình ĐỊnh'\",\n",
              "       \" 'Bạc Liêu'\", \" 'Bạc liêu'\", \" 'Hồ Chí Minh'\", \" 'Đồng tháp'\",\n",
              "       \" 'Vũng Tàu'\", \" 'Lai Châu'\", \" 'Bình phước'\", \" 'Phú yên'\",\n",
              "       \" 'An giang'\", \" 'thành phố hồ chí minh'\", \" 'bình thuận'\",\n",
              "       \" 'TP. Buôn Ma Thuột'\", \" 'Phú Yên'\", \" 'Quảng Trị '\",\n",
              "       \" 'Khánh Hòa'\", \" 'thành phố Hồ Chí Minh'\", \" 'Tuyên Quang'\",\n",
              "       \" 'Thái Nguyên'\", \" 'Quận Thủ Đức'\", \" 'TP. HỒ CHÍ MINH'\",\n",
              "       \" 'LONG HỒ'\"], dtype=object)"
            ]
          },
          "metadata": {},
          "execution_count": 21
        }
      ]
    },
    {
      "cell_type": "code",
      "source": [
        "chuaxuly['diachi_tinhtp'].sample(10)"
      ],
      "metadata": {
        "colab": {
          "base_uri": "https://localhost:8080/",
          "height": 397
        },
        "id": "rMfHcs7qzmZ9",
        "outputId": "3ae3c371-227a-48cd-b976-326eab5bd5ac"
      },
      "execution_count": null,
      "outputs": [
        {
          "output_type": "execute_result",
          "data": {
            "text/plain": [
              "4247     'Tỉnh Bà Rịa - Vũng Tàu'\n",
              "6455            'Tỉnh Bình Dương'\n",
              "3681                   Bù Gia Mập\n",
              "5118         'Thành phố Biên Hoà'\n",
              "3688              'Tỉnh Lâm Đồng'\n",
              "5583              'Quận Thốt Nốt'\n",
              "6710            'Tỉnh Bình Thuận'\n",
              "6530              'Tỉnh Trà Vinh'\n",
              "6207        'Thành phố Vĩnh Long'\n",
              "1155               'Tỉnh Kon Tum'\n",
              "Name: diachi_tinhtp, dtype: object"
            ],
            "text/html": [
              "<div>\n",
              "<style scoped>\n",
              "    .dataframe tbody tr th:only-of-type {\n",
              "        vertical-align: middle;\n",
              "    }\n",
              "\n",
              "    .dataframe tbody tr th {\n",
              "        vertical-align: top;\n",
              "    }\n",
              "\n",
              "    .dataframe thead th {\n",
              "        text-align: right;\n",
              "    }\n",
              "</style>\n",
              "<table border=\"1\" class=\"dataframe\">\n",
              "  <thead>\n",
              "    <tr style=\"text-align: right;\">\n",
              "      <th></th>\n",
              "      <th>diachi_tinhtp</th>\n",
              "    </tr>\n",
              "  </thead>\n",
              "  <tbody>\n",
              "    <tr>\n",
              "      <th>4247</th>\n",
              "      <td>'Tỉnh Bà Rịa - Vũng Tàu'</td>\n",
              "    </tr>\n",
              "    <tr>\n",
              "      <th>6455</th>\n",
              "      <td>'Tỉnh Bình Dương'</td>\n",
              "    </tr>\n",
              "    <tr>\n",
              "      <th>3681</th>\n",
              "      <td>Bù Gia Mập</td>\n",
              "    </tr>\n",
              "    <tr>\n",
              "      <th>5118</th>\n",
              "      <td>'Thành phố Biên Hoà'</td>\n",
              "    </tr>\n",
              "    <tr>\n",
              "      <th>3688</th>\n",
              "      <td>'Tỉnh Lâm Đồng'</td>\n",
              "    </tr>\n",
              "    <tr>\n",
              "      <th>5583</th>\n",
              "      <td>'Quận Thốt Nốt'</td>\n",
              "    </tr>\n",
              "    <tr>\n",
              "      <th>6710</th>\n",
              "      <td>'Tỉnh Bình Thuận'</td>\n",
              "    </tr>\n",
              "    <tr>\n",
              "      <th>6530</th>\n",
              "      <td>'Tỉnh Trà Vinh'</td>\n",
              "    </tr>\n",
              "    <tr>\n",
              "      <th>6207</th>\n",
              "      <td>'Thành phố Vĩnh Long'</td>\n",
              "    </tr>\n",
              "    <tr>\n",
              "      <th>1155</th>\n",
              "      <td>'Tỉnh Kon Tum'</td>\n",
              "    </tr>\n",
              "  </tbody>\n",
              "</table>\n",
              "</div><br><label><b>dtype:</b> object</label>"
            ]
          },
          "metadata": {},
          "execution_count": 20
        }
      ]
    },
    {
      "cell_type": "code",
      "source": [
        "import matplotlib.pyplot as plt\n",
        "import seaborn as sns\n",
        "\n",
        "# Assuming 'chuaxuly' is your DataFrame\n",
        "plt.figure(figsize=(10, 6))  # Adjust figure size as needed\n",
        "sns.histplot(chuaxuly['diem_tt'], bins=20, kde=True)  # Histogram with KDE\n",
        "plt.title('Distribution of diem_tt')\n",
        "plt.xlabel('diem_tt')\n",
        "plt.ylabel('Frequency')\n",
        "plt.show()"
      ],
      "metadata": {
        "colab": {
          "base_uri": "https://localhost:8080/",
          "height": 564
        },
        "id": "HY3Zw4nkzxwq",
        "outputId": "89e20909-ee0a-4914-f939-c3399c00779f"
      },
      "execution_count": null,
      "outputs": [
        {
          "output_type": "display_data",
          "data": {
            "text/plain": [
              "<Figure size 1000x600 with 1 Axes>"
            ],
            "image/png": "[encoded data removed]"
          },
          "metadata": {}
        }
      ]
    },
    {
      "cell_type": "code",
      "source": [
        "unConsistency = ['noisinh','diachi_tinhtp','diem_tt']\n",
        "unConsistency_daxuly = ['diem_tt']"
      ],
      "metadata": {
        "id": "ZURi2_VBzJT8"
      },
      "execution_count": null,
      "outputs": []
    },
    {
      "cell_type": "code",
      "source": [
        "print('Chưa xử lý:',1-len(unConsistency)/len(chuaxuly.columns))\n",
        "print('Đã xử lý:',1-len(unConsistency_daxuly)/len(chuaxuly.columns))"
      ],
      "metadata": {
        "colab": {
          "base_uri": "https://localhost:8080/"
        },
        "id": "aiHeNJCez9by",
        "outputId": "6945e6dd-0850-40fb-a72c-595b27f4ac36"
      },
      "execution_count": null,
      "outputs": [
        {
          "output_type": "stream",
          "name": "stdout",
          "text": [
            "Chưa xử lý: 0.9230769230769231\n",
            "Đã xử lý: 0.9743589743589743\n"
          ]
        }
      ]
    },
    {
      "cell_type": "markdown",
      "source": [
        "#Uniqueness"
      ],
      "metadata": {
        "id": "P_HnwXxR0at1"
      }
    },
    {
      "cell_type": "code",
      "source": [
        "def uniqueness(df):\n",
        "  return(1-df.duplicated(subset='mssv').sum()/len(df))"
      ],
      "metadata": {
        "id": "CGIGw75w0cWg"
      },
      "execution_count": null,
      "outputs": []
    },
    {
      "cell_type": "code",
      "source": [
        "print(uniqueness(daxuly))\n",
        "print(uniqueness(chuaxuly))"
      ],
      "metadata": {
        "colab": {
          "base_uri": "https://localhost:8080/"
        },
        "id": "Iar8MBma0rDc",
        "outputId": "a9f4f46a-05cd-46fa-b1e8-4ed6a8753adf"
      },
      "execution_count": null,
      "outputs": [
        {
          "output_type": "stream",
          "name": "stdout",
          "text": [
            "1.0\n",
            "1.0\n"
          ]
        }
      ]
    },
    {
      "cell_type": "code",
      "source": [],
      "metadata": {
        "id": "sWnHu0P80tPV"
      },
      "execution_count": null,
      "outputs": []
    }
  ]
}