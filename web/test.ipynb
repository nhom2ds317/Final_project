{
 "cells": [
  {
   "cell_type": "code",
   "execution_count": 1,
   "metadata": {},
   "outputs": [],
   "source": [
    "from joblib import load\n",
    "import pickle\n",
    "import pandas as pd\n",
    "from sklearn.model_selection import train_test_split\n",
    "from sklearn.metrics import f1_score, precision_score\n",
    "import numpy as np\n",
    "import seaborn as sns\n",
    "import matplotlib.pyplot as plt\n",
    "from sklearn.metrics import confusion_matrix, ConfusionMatrixDisplay,classification_report\n",
    "from sklearn import preprocessing"
   ]
  },
  {
   "cell_type": "code",
   "execution_count": 2,
   "metadata": {},
   "outputs": [],
   "source": [
    "df = pd.read_csv(\"D:\\Learning\\Semester 1 year 4\\DS317\\Project\\Data\\Test_data_for_demo.csv\")"
   ]
  },
  {
   "cell_type": "code",
   "execution_count": 3,
   "metadata": {},
   "outputs": [
    {
     "data": {
      "text/html": [
       "<div>\n",
       "<style scoped>\n",
       "    .dataframe tbody tr th:only-of-type {\n",
       "        vertical-align: middle;\n",
       "    }\n",
       "\n",
       "    .dataframe tbody tr th {\n",
       "        vertical-align: top;\n",
       "    }\n",
       "\n",
       "    .dataframe thead th {\n",
       "        text-align: right;\n",
       "    }\n",
       "</style>\n",
       "<table border=\"1\" class=\"dataframe\">\n",
       "  <thead>\n",
       "    <tr style=\"text-align: right;\">\n",
       "      <th></th>\n",
       "      <th>mssv</th>\n",
       "      <th>soquyetdinh</th>\n",
       "      <th>ngaycapvb</th>\n",
       "      <th>namsinh</th>\n",
       "      <th>gioitinh</th>\n",
       "      <th>noisinh</th>\n",
       "      <th>lopsh</th>\n",
       "      <th>khoa</th>\n",
       "      <th>hedt</th>\n",
       "      <th>khoahoc</th>\n",
       "      <th>...</th>\n",
       "      <th>tctichluy4</th>\n",
       "      <th>tctichluy5</th>\n",
       "      <th>tctichluy6</th>\n",
       "      <th>tc_tichluy_3_5</th>\n",
       "      <th>socc_tienganh</th>\n",
       "      <th>tienganh</th>\n",
       "      <th>canhcao</th>\n",
       "      <th>tc_yeucau</th>\n",
       "      <th>du_dktn</th>\n",
       "      <th>tb_drl</th>\n",
       "    </tr>\n",
       "  </thead>\n",
       "  <tbody>\n",
       "    <tr>\n",
       "      <th>0</th>\n",
       "      <td>F2EAA359XPvAibaEXe9o/lUQXb5f/wV4mvQVjSu3</td>\n",
       "      <td>NaN</td>\n",
       "      <td>NaN</td>\n",
       "      <td>1994.0</td>\n",
       "      <td>1.0</td>\n",
       "      <td>Vùng Bắc Trung Bộ và Duyên hải miền Trung</td>\n",
       "      <td>KHMT0001</td>\n",
       "      <td>KHMT</td>\n",
       "      <td>CQUI</td>\n",
       "      <td>9.0</td>\n",
       "      <td>...</td>\n",
       "      <td>41.0</td>\n",
       "      <td>8.0</td>\n",
       "      <td>NaN</td>\n",
       "      <td>21.0</td>\n",
       "      <td>0.0</td>\n",
       "      <td>0</td>\n",
       "      <td>0.0</td>\n",
       "      <td>140.0</td>\n",
       "      <td>0</td>\n",
       "      <td>64.5</td>\n",
       "    </tr>\n",
       "  </tbody>\n",
       "</table>\n",
       "<p>1 rows × 58 columns</p>\n",
       "</div>"
      ],
      "text/plain": [
       "                                       mssv soquyetdinh ngaycapvb  namsinh  \\\n",
       "0  F2EAA359XPvAibaEXe9o/lUQXb5f/wV4mvQVjSu3         NaN       NaN   1994.0   \n",
       "\n",
       "   gioitinh                                    noisinh     lopsh   khoa  hedt  \\\n",
       "0       1.0  Vùng Bắc Trung Bộ và Duyên hải miền Trung  KHMT0001   KHMT  CQUI   \n",
       "\n",
       "   khoahoc  ... tctichluy4  tctichluy5 tctichluy6  tc_tichluy_3_5  \\\n",
       "0      9.0  ...       41.0         8.0        NaN            21.0   \n",
       "\n",
       "   socc_tienganh  tienganh  canhcao  tc_yeucau  du_dktn  tb_drl  \n",
       "0            0.0         0      0.0      140.0        0    64.5  \n",
       "\n",
       "[1 rows x 58 columns]"
      ]
     },
     "execution_count": 3,
     "metadata": {},
     "output_type": "execute_result"
    }
   ],
   "source": [
    "df.head(1)"
   ]
  },
  {
   "cell_type": "code",
   "execution_count": 16,
   "metadata": {},
   "outputs": [
    {
     "data": {
      "text/plain": [
       "['Toàn khoa', ' KHMT', ' MMT&TT', ' KTMT', ' KTTT', ' HTTT', ' CNPM']"
      ]
     },
     "execution_count": 16,
     "metadata": {},
     "output_type": "execute_result"
    }
   ],
   "source": [
    "list(np.append(np.array('Toàn khoa'), df['khoa'].unique()))"
   ]
  },
  {
   "cell_type": "code",
   "execution_count": 26,
   "metadata": {},
   "outputs": [],
   "source": [
    "df = df.drop(columns=['diemnamhoc4', 'diemnamhoc5', 'diemnamhoc6', 'drlnam4', 'drlnam5', 'drlnam6', 'sotc_rot4', 'sotc_rot5', 'sotc_rot6', 'sotc_rot7', 'sotc_rot8', 'tctichluy4', 'tctichluy5', 'tctichluy6'])"
   ]
  },
  {
   "cell_type": "code",
   "execution_count": 27,
   "metadata": {},
   "outputs": [],
   "source": [
    "df['diemnamhoc1'] = df['diemnamhoc1'].fillna(df['diemnamhoc1'].median())\n",
    "df['diemnamhoc2'] = df['diemnamhoc2'].fillna(df['diemnamhoc2'].median())\n",
    "df['diemnamhoc3'] = df['diemnamhoc3'].fillna(df['diemnamhoc3'].median())\n",
    "df['diem_3_5'] = df['diem_3_5'].fillna(df['diem_3_5'].mean())\n",
    "df['drlnam1'] = df['drlnam1'].fillna(df['drlnam1'].median())\n",
    "df['drlnam2'] = df['drlnam2'].fillna(df['drlnam2'].median())\n",
    "df['drlnam3'] = df['drlnam3'].fillna(df['drlnam3'].median())\n",
    "df['drl_3_5'] = df['drl_3_5'].fillna(df['drl_3_5'].median())\n",
    "df['tctichluy1'] = df['tctichluy1'].fillna(df['tctichluy1'].median())\n",
    "df['tctichluy2'] = df['tctichluy2'].fillna(df['tctichluy2'].median())\n",
    "df['tctichluy3'] = df['tctichluy3'].fillna(df['tctichluy3'].median())\n",
    "df['tc_tichluy_3_5'] = df['tc_tichluy_3_5'].fillna(df['tc_tichluy_3_5'].median())\n",
    "df['diachi_tinhtp'] = df['diachi_tinhtp'].fillna(df['diachi_tinhtp'].mode()[0])"
   ]
  },
  {
   "cell_type": "code",
   "execution_count": 28,
   "metadata": {},
   "outputs": [],
   "source": [
    "df_y12, df_y335 = train_test_split(df, test_size=0.5, random_state=42)\n",
    "df_y1, df_y2 = train_test_split(df_y12, test_size=0.5, random_state=42)\n",
    "df_y3, df_y35 = train_test_split(df_y335, test_size=0.5, random_state=42)"
   ]
  },
  {
   "cell_type": "code",
   "execution_count": 29,
   "metadata": {},
   "outputs": [],
   "source": [
    "df_y1 = df_y1.drop(columns=['diemnamhoc2', 'diemnamhoc3', 'diem_3_5', 'drlnam2', 'drlnam3', 'drl_3_5', 'sotc_rot2', 'sotc_rot3', 'rotmon_3_5', 'tctichluy2', 'tctichluy2', 'tctichluy3','tc_tichluy_3_5'])\n",
    "df_y2 = df_y2.drop(columns=['diemnamhoc3', 'diem_3_5', 'drlnam3', 'drl_3_5', 'sotc_rot3', 'rotmon_3_5', 'tctichluy3','tc_tichluy_3_5'])\n",
    "df_y3 = df_y3.drop(columns=['diem_3_5', 'drl_3_5', 'rotmon_3_5', 'tc_tichluy_3_5'])"
   ]
  },
  {
   "cell_type": "code",
   "execution_count": 30,
   "metadata": {},
   "outputs": [],
   "source": [
    "df_y1.to_csv('test_data_for_demo_year1.csv', index=False)\n",
    "df_y2.to_csv('test_data_for_demo_year2.csv', index=False)\n",
    "df_y3.to_csv('test_data_for_demo_year3.csv', index=False)\n",
    "df_y35.to_csv('test_data_for_demo_year35.csv', index=False)"
   ]
  },
  {
   "cell_type": "code",
   "execution_count": 1,
   "metadata": {},
   "outputs": [
    {
     "data": {
      "text/plain": [
       "'1.2'"
      ]
     },
     "execution_count": 1,
     "metadata": {},
     "output_type": "execute_result"
    }
   ],
   "source": [
    "import catboost\n",
    "catboost.__version__"
   ]
  },
  {
   "cell_type": "code",
   "execution_count": 2,
   "metadata": {},
   "outputs": [
    {
     "data": {
      "text/plain": [
       "'1.23.5'"
      ]
     },
     "execution_count": 2,
     "metadata": {},
     "output_type": "execute_result"
    }
   ],
   "source": [
    "import numpy\n",
    "numpy.__version__"
   ]
  },
  {
   "cell_type": "code",
   "execution_count": null,
   "metadata": {},
   "outputs": [],
   "source": []
  }
 ],
 "metadata": {
  "kernelspec": {
   "display_name": "Python 3",
   "language": "python",
   "name": "python3"
  },
  "language_info": {
   "codemirror_mode": {
    "name": "ipython",
    "version": 3
   },
   "file_extension": ".py",
   "mimetype": "text/x-python",
   "name": "python",
   "nbconvert_exporter": "python",
   "pygments_lexer": "ipython3",
   "version": "3.11.2"
  }
 },
 "nbformat": 4,
 "nbformat_minor": 2
}
